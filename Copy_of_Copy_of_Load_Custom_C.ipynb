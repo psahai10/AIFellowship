{
  "nbformat": 4,
  "nbformat_minor": 0,
  "metadata": {
    "colab": {
      "name": "Copy of Copy of Load_Custom_C.ipynb",
      "provenance": [],
      "collapsed_sections": [],
      "machine_shape": "hm",
      "include_colab_link": true
    },
    "kernelspec": {
      "name": "python3",
      "display_name": "Python 3"
    }
  },
  "cells": [
    {
      "cell_type": "markdown",
      "metadata": {
        "id": "view-in-github",
        "colab_type": "text"
      },
      "source": [
        "<a href=\"https://colab.research.google.com/github/psahai10/AIFellowship/blob/main/Copy_of_Copy_of_Load_Custom_C.ipynb\" target=\"_parent\"><img src=\"https://colab.research.google.com/assets/colab-badge.svg\" alt=\"Open In Colab\"/></a>"
      ]
    },
    {
      "cell_type": "markdown",
      "metadata": {
        "id": "3g9gan-vUeL0"
      },
      "source": [
        "# Import Custom-C Dataset"
      ]
    },
    {
      "cell_type": "code",
      "metadata": {
        "colab": {
          "base_uri": "https://localhost:8080/"
        },
        "id": "HVALcQiaUd50",
        "outputId": "0a46f656-74a3-4db8-b285-7872cf607ec2"
      },
      "source": [
        "# Mount Drive\r\n",
        "from google.colab import drive\r\n",
        "drive.mount('/content/gdrive')"
      ],
      "execution_count": null,
      "outputs": [
        {
          "output_type": "stream",
          "text": [
            "Mounted at /content/gdrive\n"
          ],
          "name": "stdout"
        }
      ]
    },
    {
      "cell_type": "code",
      "metadata": {
        "id": "Zou-gDnmUd2v"
      },
      "source": [
        "# make directory to hold images\r\n",
        "!mkdir /content/images/\r\n",
        "# unzip and extract\r\n",
        "!unzip -uq '/content/gdrive/MyDrive/Custom-C.zip' -d \"/content/images\""
      ],
      "execution_count": null,
      "outputs": []
    },
    {
      "cell_type": "code",
      "metadata": {
        "colab": {
          "base_uri": "https://localhost:8080/"
        },
        "id": "VPY1p0DCUd0M",
        "outputId": "9c9ae8b9-b55b-4465-ec65-6e858bc65c14"
      },
      "source": [
        "# extract image_urls and label_names\r\n",
        "import os\r\n",
        "image_urls = []\r\n",
        "labels_dist = []\r\n",
        "\r\n",
        "path = '/content/images/Bruh'\r\n",
        "for f in os.listdir(path):\r\n",
        "  if(f!='.DS_Store'):\r\n",
        "    image = os.path.join(path, f)\r\n",
        "    image_urls.append(image)\r\n",
        "    f = f.split('.')[-2]\r\n",
        "    stemmed = ''.join([i for i in f if not i.isdigit()])\r\n",
        "    stemmed = stemmed.replace('()','')\r\n",
        "    stemmed = stemmed.strip()\r\n",
        "    labels_dist.append(stemmed)\r\n",
        "\r\n",
        "print(f'# of images: {len(image_urls)}')\r\n",
        "print(f'# of labels: {len(labels_dist)}')"
      ],
      "execution_count": null,
      "outputs": [
        {
          "output_type": "stream",
          "text": [
            "# of images: 31490\n",
            "# of labels: 31490\n"
          ],
          "name": "stdout"
        }
      ]
    },
    {
      "cell_type": "markdown",
      "metadata": {
        "id": "P-Do9Q3SYS5z"
      },
      "source": [
        "# Import Resources for Labelling"
      ]
    },
    {
      "cell_type": "code",
      "metadata": {
        "id": "MN5vFwW0YSP5"
      },
      "source": [
        "# copy files from drive to current session\r\n",
        "!cp /content/gdrive/MyDrive/Resources/labels_dict.py /content/\r\n",
        "!cp /content/gdrive/MyDrive/Resources/labels_categories0308.csv /content/"
      ],
      "execution_count": null,
      "outputs": []
    },
    {
      "cell_type": "code",
      "metadata": {
        "id": "RRdTMh4rYnnB"
      },
      "source": [
        "import pandas as pd\r\n",
        "from labels_dict import *"
      ],
      "execution_count": null,
      "outputs": []
    },
    {
      "cell_type": "code",
      "metadata": {
        "id": "-YvTldKdUdxy"
      },
      "source": [
        "# store urls and raw labels in dataframe\r\n",
        "import pandas as pd\r\n",
        "df = pd.DataFrame(list(zip(image_urls,labels_dist)), columns = ['image_urls', 'labels_dist'])"
      ],
      "execution_count": null,
      "outputs": []
    },
    {
      "cell_type": "code",
      "metadata": {
        "id": "YWh35Z24UdEh"
      },
      "source": [
        "# clean label names\r\n",
        "label_names = []\r\n",
        "for i in labels_dist:\r\n",
        "  if i in labels_dict:\r\n",
        "    label_names.append(labels_dict[i].lower()) # use the pre-defined dictionary\r\n",
        "  else:\r\n",
        "    label_names.append(i)\r\n",
        "\r\n",
        "# Add cleaned labels to df\r\n",
        "df['labels_clean']= label_names\r\n",
        "df.labels_clean = df.labels_clean.str.replace('_',' ')\r\n",
        "df.drop(columns='labels_dist', inplace=True)\r\n",
        "df.columns = ['image_urls','label']"
      ],
      "execution_count": null,
      "outputs": []
    },
    {
      "cell_type": "code",
      "metadata": {
        "id": "Ey__u8rRUVOA"
      },
      "source": [
        "# load current labels/categories csv\r\n",
        "csv_path = 'labels_categories0308.csv'\r\n",
        "all_labels_cats = pd.read_csv(csv_path, encoding='UTF-8')\r\n",
        "\r\n",
        "# remove extra columns\r\n",
        "all_labels_cats = all_labels_cats[['label','category','common_in_america']]"
      ],
      "execution_count": null,
      "outputs": []
    },
    {
      "cell_type": "markdown",
      "metadata": {
        "id": "Sr5uwkQlZVmf"
      },
      "source": [
        "# Create `main_df` \r\n",
        "  - `image_url`, `label`, `category`, `common_in_america`"
      ]
    },
    {
      "cell_type": "code",
      "metadata": {
        "colab": {
          "base_uri": "https://localhost:8080/",
          "height": 168
        },
        "id": "TLrS_MDeZAde",
        "outputId": "6d4091e1-d2c2-4987-c3b9-100d73161a78"
      },
      "source": [
        "main_df = df.merge(all_labels_cats, how='left')\r\n",
        "main_df.drop(main_df[main_df.category.isna()].index, inplace=True)\r\n",
        "main_df.columns = ['image_url', 'label', 'category','common_in_america']\r\n",
        "main_df.describe()"
      ],
      "execution_count": null,
      "outputs": [
        {
          "output_type": "execute_result",
          "data": {
            "text/html": [
              "<div>\n",
              "<style scoped>\n",
              "    .dataframe tbody tr th:only-of-type {\n",
              "        vertical-align: middle;\n",
              "    }\n",
              "\n",
              "    .dataframe tbody tr th {\n",
              "        vertical-align: top;\n",
              "    }\n",
              "\n",
              "    .dataframe thead th {\n",
              "        text-align: right;\n",
              "    }\n",
              "</style>\n",
              "<table border=\"1\" class=\"dataframe\">\n",
              "  <thead>\n",
              "    <tr style=\"text-align: right;\">\n",
              "      <th></th>\n",
              "      <th>image_url</th>\n",
              "      <th>label</th>\n",
              "      <th>category</th>\n",
              "      <th>common_in_america</th>\n",
              "    </tr>\n",
              "  </thead>\n",
              "  <tbody>\n",
              "    <tr>\n",
              "      <th>count</th>\n",
              "      <td>24357</td>\n",
              "      <td>24357</td>\n",
              "      <td>24357</td>\n",
              "      <td>24357</td>\n",
              "    </tr>\n",
              "    <tr>\n",
              "      <th>unique</th>\n",
              "      <td>24165</td>\n",
              "      <td>257</td>\n",
              "      <td>53</td>\n",
              "      <td>94</td>\n",
              "    </tr>\n",
              "    <tr>\n",
              "      <th>top</th>\n",
              "      <td>/content/images/Bruh/gratin81.jpg</td>\n",
              "      <td>gratin</td>\n",
              "      <td>vegetable dish</td>\n",
              "      <td>cake</td>\n",
              "    </tr>\n",
              "    <tr>\n",
              "      <th>freq</th>\n",
              "      <td>2</td>\n",
              "      <td>222</td>\n",
              "      <td>2062</td>\n",
              "      <td>1678</td>\n",
              "    </tr>\n",
              "  </tbody>\n",
              "</table>\n",
              "</div>"
            ],
            "text/plain": [
              "                                image_url  ... common_in_america\n",
              "count                               24357  ...             24357\n",
              "unique                              24165  ...                94\n",
              "top     /content/images/Bruh/gratin81.jpg  ...              cake\n",
              "freq                                    2  ...              1678\n",
              "\n",
              "[4 rows x 4 columns]"
            ]
          },
          "metadata": {
            "tags": []
          },
          "execution_count": 9
        }
      ]
    },
    {
      "cell_type": "code",
      "metadata": {
        "colab": {
          "base_uri": "https://localhost:8080/"
        },
        "id": "H-aVlRFAZsWk",
        "outputId": "f2c0cd2e-8759-456b-e6cd-9a9055ba3fdd"
      },
      "source": [
        "main_df.image_url.value_counts()"
      ],
      "execution_count": null,
      "outputs": [
        {
          "output_type": "execute_result",
          "data": {
            "text/plain": [
              "/content/images/Bruh/gratin81.jpg            2\n",
              "/content/images/Bruh/tater tots27.jpg        2\n",
              "/content/images/Bruh/gratin53.jpg            2\n",
              "/content/images/Bruh/gratin37.jpg            2\n",
              "/content/images/Bruh/gratin32.jpg            2\n",
              "                                            ..\n",
              "/content/images/Bruh/ayam_goreng68.jpg       1\n",
              "/content/images/Bruh/lasagna71.jpg           1\n",
              "/content/images/Bruh/red_velvet_cake9.jpg    1\n",
              "/content/images/Bruh/lava_cake50.jpg         1\n",
              "/content/images/Bruh/tsoureki68.jpg          1\n",
              "Name: image_url, Length: 24165, dtype: int64"
            ]
          },
          "metadata": {
            "tags": []
          },
          "execution_count": 10
        }
      ]
    },
    {
      "cell_type": "code",
      "metadata": {
        "colab": {
          "base_uri": "https://localhost:8080/"
        },
        "id": "PXj35PwXBXxT",
        "outputId": "ae162d67-dfe0-4f68-b303-b6d5c10195b6"
      },
      "source": [
        "import subprocess\r\n",
        " \r\n",
        "CUDA_version = [s for s in subprocess.check_output([\"nvcc\", \"--version\"]).decode(\"UTF-8\").split(\", \") if s.startswith(\"release\")][0].split(\" \")[-1]\r\n",
        "print(\"CUDA version:\", CUDA_version)\r\n",
        " \r\n",
        "if CUDA_version == \"10.0\":\r\n",
        "    torch_version_suffix = \"+cu100\"\r\n",
        "elif CUDA_version == \"10.1\":\r\n",
        "    torch_version_suffix = \"+cu101\"\r\n",
        "elif CUDA_version == \"10.2\":\r\n",
        "    torch_version_suffix = \"\"\r\n",
        "else:\r\n",
        "    torch_version_suffix = \"+cu110\""
      ],
      "execution_count": null,
      "outputs": [
        {
          "output_type": "stream",
          "text": [
            "CUDA version: 11.0\n"
          ],
          "name": "stdout"
        }
      ]
    },
    {
      "cell_type": "code",
      "metadata": {
        "colab": {
          "base_uri": "https://localhost:8080/"
        },
        "id": "GQ1-zaGJDqQS",
        "outputId": "b1f0be84-d05a-417a-eb4c-e2da2bc73b5c"
      },
      "source": [
        "!pip install torch==1.8.0{torch_version_suffix} torchvision==0.8.2{torch_version_suffix} -f https://download.pytorch.org/whl/torch_stable.html\r\n",
        "!pip install ftfy regex\r\n",
        "\r\n",
        "import torch\r\n",
        "\r\n",
        "print(\"Torch version:\", torch.__version__)"
      ],
      "execution_count": null,
      "outputs": [
        {
          "output_type": "stream",
          "text": [
            "Looking in links: https://download.pytorch.org/whl/torch_stable.html\n",
            "Collecting torch==1.7.1+cu110\n",
            "\u001b[?25l  Downloading https://download.pytorch.org/whl/cu110/torch-1.7.1%2Bcu110-cp37-cp37m-linux_x86_64.whl (1156.8MB)\n",
            "\u001b[K     |███████████████████████         | 834.1MB 1.2MB/s eta 0:04:39tcmalloc: large alloc 1147494400 bytes == 0x5565d83b6000 @  0x7f7690942615 0x55659e20e06c 0x55659e2edeba 0x55659e210e8d 0x55659e30299d 0x55659e284fe9 0x55659e27fb0e 0x55659e21277a 0x55659e284e50 0x55659e27fb0e 0x55659e21277a 0x55659e28186a 0x55659e3037c6 0x55659e280ee2 0x55659e3037c6 0x55659e280ee2 0x55659e3037c6 0x55659e280ee2 0x55659e3037c6 0x55659e385431 0x55659e2e6049 0x55659e250c84 0x55659e2118e9 0x55659e285ade 0x55659e21269a 0x55659e280a45 0x55659e27fe0d 0x55659e21277a 0x55659e280a45 0x55659e21269a 0x55659e280a45\n",
            "\u001b[K     |█████████████████████████████▏  | 1055.7MB 1.2MB/s eta 0:01:25tcmalloc: large alloc 1434370048 bytes == 0x55661ca0c000 @  0x7f7690942615 0x55659e20e06c 0x55659e2edeba 0x55659e210e8d 0x55659e30299d 0x55659e284fe9 0x55659e27fb0e 0x55659e21277a 0x55659e284e50 0x55659e27fb0e 0x55659e21277a 0x55659e28186a 0x55659e3037c6 0x55659e280ee2 0x55659e3037c6 0x55659e280ee2 0x55659e3037c6 0x55659e280ee2 0x55659e3037c6 0x55659e385431 0x55659e2e6049 0x55659e250c84 0x55659e2118e9 0x55659e285ade 0x55659e21269a 0x55659e280a45 0x55659e27fe0d 0x55659e21277a 0x55659e280a45 0x55659e21269a 0x55659e280a45\n",
            "\u001b[K     |████████████████████████████████| 1156.7MB 1.2MB/s eta 0:00:01tcmalloc: large alloc 1445945344 bytes == 0x5566721f8000 @  0x7f7690942615 0x55659e20e06c 0x55659e2edeba 0x55659e210e8d 0x55659e30299d 0x55659e284fe9 0x55659e27fb0e 0x55659e21277a 0x55659e280c9e 0x55659e27fb0e 0x55659e21277a 0x55659e280c9e 0x55659e27fb0e 0x55659e21277a 0x55659e280c9e 0x55659e27fb0e 0x55659e21277a 0x55659e280c9e 0x55659e27fb0e 0x55659e21277a 0x55659e280c9e 0x55659e21269a 0x55659e280c9e 0x55659e27fb0e 0x55659e21277a 0x55659e28186a 0x55659e27fb0e 0x55659e21277a 0x55659e28186a 0x55659e27fb0e 0x55659e212e11\n",
            "\u001b[K     |████████████████████████████████| 1156.8MB 13kB/s \n",
            "\u001b[?25hCollecting torchvision==0.8.2+cu110\n",
            "\u001b[?25l  Downloading https://download.pytorch.org/whl/cu110/torchvision-0.8.2%2Bcu110-cp37-cp37m-linux_x86_64.whl (12.9MB)\n",
            "\u001b[K     |████████████████████████████████| 12.9MB 32.5MB/s \n",
            "\u001b[?25hRequirement already satisfied: numpy in /usr/local/lib/python3.7/dist-packages (from torch==1.7.1+cu110) (1.19.5)\n",
            "Requirement already satisfied: typing-extensions in /usr/local/lib/python3.7/dist-packages (from torch==1.7.1+cu110) (3.7.4.3)\n",
            "Requirement already satisfied: pillow>=4.1.1 in /usr/local/lib/python3.7/dist-packages (from torchvision==0.8.2+cu110) (7.0.0)\n",
            "\u001b[31mERROR: torchtext 0.9.0 has requirement torch==1.8.0, but you'll have torch 1.7.1+cu110 which is incompatible.\u001b[0m\n",
            "Installing collected packages: torch, torchvision\n",
            "  Found existing installation: torch 1.8.0+cu101\n",
            "    Uninstalling torch-1.8.0+cu101:\n",
            "      Successfully uninstalled torch-1.8.0+cu101\n",
            "  Found existing installation: torchvision 0.9.0+cu101\n",
            "    Uninstalling torchvision-0.9.0+cu101:\n",
            "      Successfully uninstalled torchvision-0.9.0+cu101\n",
            "Successfully installed torch-1.7.1+cu110 torchvision-0.8.2+cu110\n",
            "Collecting ftfy\n",
            "\u001b[?25l  Downloading https://files.pythonhosted.org/packages/04/06/e5c80e2e0f979628d47345efba51f7ba386fe95963b11c594209085f5a9b/ftfy-5.9.tar.gz (66kB)\n",
            "\u001b[K     |████████████████████████████████| 71kB 3.2MB/s \n",
            "\u001b[?25hRequirement already satisfied: regex in /usr/local/lib/python3.7/dist-packages (2019.12.20)\n",
            "Requirement already satisfied: wcwidth in /usr/local/lib/python3.7/dist-packages (from ftfy) (0.2.5)\n",
            "Building wheels for collected packages: ftfy\n",
            "  Building wheel for ftfy (setup.py) ... \u001b[?25l\u001b[?25hdone\n",
            "  Created wheel for ftfy: filename=ftfy-5.9-cp37-none-any.whl size=46451 sha256=6a371c6f63e434ccd1b8037c6bd78ceef02d0c3f9f60214af704ce8531066b08\n",
            "  Stored in directory: /root/.cache/pip/wheels/5e/2e/f0/b07196e8c929114998f0316894a61c752b63bfa3fdd50d2fc3\n",
            "Successfully built ftfy\n",
            "Installing collected packages: ftfy\n",
            "Successfully installed ftfy-5.9\n",
            "Torch version: 1.7.1+cu110\n"
          ],
          "name": "stdout"
        }
      ]
    },
    {
      "cell_type": "code",
      "metadata": {
        "colab": {
          "base_uri": "https://localhost:8080/"
        },
        "id": "36Mt6q9PEDYA",
        "outputId": "713f0788-943d-4acc-c4b5-06fdd55caeae"
      },
      "source": [
        "!git clone https://github.com/openai/CLIP.git\r\n",
        "%cd CLIP"
      ],
      "execution_count": null,
      "outputs": [
        {
          "output_type": "stream",
          "text": [
            "Cloning into 'CLIP'...\n",
            "remote: Enumerating objects: 74, done.\u001b[K\n",
            "remote: Total 74 (delta 0), reused 0 (delta 0), pack-reused 74\u001b[K\n",
            "Unpacking objects: 100% (74/74), done.\n",
            "/content/CLIP/CLIP\n"
          ],
          "name": "stdout"
        }
      ]
    },
    {
      "cell_type": "code",
      "metadata": {
        "id": "eLPT-Vb7EGsA"
      },
      "source": [
        "import os\r\n",
        "import clip\r\n",
        "from PIL import Image\r\n",
        "import matplotlib.pyplot as plt\r\n",
        "import numpy as np\r\n",
        "import pandas as pd\r\n",
        "\r\n",
        "%matplotlib inline\r\n",
        "%config InlineBackend.figure_format = 'retina'"
      ],
      "execution_count": null,
      "outputs": []
    },
    {
      "cell_type": "code",
      "metadata": {
        "colab": {
          "base_uri": "https://localhost:8080/",
          "height": 198
        },
        "id": "WCY_4fwXEHbo",
        "outputId": "403accc1-ba71-4f45-8765-f02c7d5d4b10"
      },
      "source": [
        "main_df.head()"
      ],
      "execution_count": null,
      "outputs": [
        {
          "output_type": "execute_result",
          "data": {
            "text/html": [
              "<div>\n",
              "<style scoped>\n",
              "    .dataframe tbody tr th:only-of-type {\n",
              "        vertical-align: middle;\n",
              "    }\n",
              "\n",
              "    .dataframe tbody tr th {\n",
              "        vertical-align: top;\n",
              "    }\n",
              "\n",
              "    .dataframe thead th {\n",
              "        text-align: right;\n",
              "    }\n",
              "</style>\n",
              "<table border=\"1\" class=\"dataframe\">\n",
              "  <thead>\n",
              "    <tr style=\"text-align: right;\">\n",
              "      <th></th>\n",
              "      <th>image_url</th>\n",
              "      <th>label</th>\n",
              "      <th>category</th>\n",
              "      <th>common_in_america</th>\n",
              "    </tr>\n",
              "  </thead>\n",
              "  <tbody>\n",
              "    <tr>\n",
              "      <th>0</th>\n",
              "      <td>/content/images/Bruh/tarta_de_santiago118.jpg</td>\n",
              "      <td>tarta de santiago</td>\n",
              "      <td>cake</td>\n",
              "      <td>cake</td>\n",
              "    </tr>\n",
              "    <tr>\n",
              "      <th>1</th>\n",
              "      <td>/content/images/Bruh/bacon76.jpg</td>\n",
              "      <td>bacon</td>\n",
              "      <td>meat dish</td>\n",
              "      <td>bacon</td>\n",
              "    </tr>\n",
              "    <tr>\n",
              "      <th>2</th>\n",
              "      <td>/content/images/Bruh/quiche110.jpg</td>\n",
              "      <td>quiche</td>\n",
              "      <td>savory pie</td>\n",
              "      <td>savory pie</td>\n",
              "    </tr>\n",
              "    <tr>\n",
              "      <th>3</th>\n",
              "      <td>/content/images/Bruh/cornbread50.jpg</td>\n",
              "      <td>cornbread</td>\n",
              "      <td>bread</td>\n",
              "      <td>cornbread</td>\n",
              "    </tr>\n",
              "    <tr>\n",
              "      <th>5</th>\n",
              "      <td>/content/images/Bruh/beef steak58.jpg</td>\n",
              "      <td>beef steak</td>\n",
              "      <td>beef dish</td>\n",
              "      <td>beef dish</td>\n",
              "    </tr>\n",
              "  </tbody>\n",
              "</table>\n",
              "</div>"
            ],
            "text/plain": [
              "                                       image_url  ... common_in_america\n",
              "0  /content/images/Bruh/tarta_de_santiago118.jpg  ...              cake\n",
              "1               /content/images/Bruh/bacon76.jpg  ...             bacon\n",
              "2             /content/images/Bruh/quiche110.jpg  ...        savory pie\n",
              "3           /content/images/Bruh/cornbread50.jpg  ...         cornbread\n",
              "5          /content/images/Bruh/beef steak58.jpg  ...         beef dish\n",
              "\n",
              "[5 rows x 4 columns]"
            ]
          },
          "metadata": {
            "tags": []
          },
          "execution_count": 15
        }
      ]
    },
    {
      "cell_type": "code",
      "metadata": {
        "id": "Pm5euV2iH81J"
      },
      "source": [
        "food_types = list(main_df['common_in_america'].unique())\r\n",
        "sorted_food = sorted(food_types)\r\n",
        "dictionary_key_value = {v:k for k,v in enumerate(sorted_food)}"
      ],
      "execution_count": null,
      "outputs": []
    },
    {
      "cell_type": "code",
      "metadata": {
        "id": "AgXy0xTsItNh"
      },
      "source": [
        "labels = list(main_df['common_in_america'])"
      ],
      "execution_count": null,
      "outputs": []
    },
    {
      "cell_type": "code",
      "metadata": {
        "id": "7iaaRDBuFbji"
      },
      "source": [
        "list_of_targets = [dictionary_key_value[label] for label in labels]"
      ],
      "execution_count": null,
      "outputs": []
    },
    {
      "cell_type": "code",
      "metadata": {
        "id": "FCL4R9dsILBp"
      },
      "source": [
        "main_df['target'] = list_of_targets"
      ],
      "execution_count": null,
      "outputs": []
    },
    {
      "cell_type": "code",
      "metadata": {
        "colab": {
          "base_uri": "https://localhost:8080/",
          "height": 198
        },
        "id": "OlfXce-GI5cX",
        "outputId": "be641b06-7b8c-4958-a790-d12fb3ed99ae"
      },
      "source": [
        "main_df.head()"
      ],
      "execution_count": null,
      "outputs": [
        {
          "output_type": "execute_result",
          "data": {
            "text/html": [
              "<div>\n",
              "<style scoped>\n",
              "    .dataframe tbody tr th:only-of-type {\n",
              "        vertical-align: middle;\n",
              "    }\n",
              "\n",
              "    .dataframe tbody tr th {\n",
              "        vertical-align: top;\n",
              "    }\n",
              "\n",
              "    .dataframe thead th {\n",
              "        text-align: right;\n",
              "    }\n",
              "</style>\n",
              "<table border=\"1\" class=\"dataframe\">\n",
              "  <thead>\n",
              "    <tr style=\"text-align: right;\">\n",
              "      <th></th>\n",
              "      <th>image_url</th>\n",
              "      <th>label</th>\n",
              "      <th>category</th>\n",
              "      <th>common_in_america</th>\n",
              "      <th>target</th>\n",
              "    </tr>\n",
              "  </thead>\n",
              "  <tbody>\n",
              "    <tr>\n",
              "      <th>0</th>\n",
              "      <td>/content/images/Bruh/tarta_de_santiago118.jpg</td>\n",
              "      <td>tarta de santiago</td>\n",
              "      <td>cake</td>\n",
              "      <td>cake</td>\n",
              "      <td>15</td>\n",
              "    </tr>\n",
              "    <tr>\n",
              "      <th>1</th>\n",
              "      <td>/content/images/Bruh/bacon76.jpg</td>\n",
              "      <td>bacon</td>\n",
              "      <td>meat dish</td>\n",
              "      <td>bacon</td>\n",
              "      <td>0</td>\n",
              "    </tr>\n",
              "    <tr>\n",
              "      <th>2</th>\n",
              "      <td>/content/images/Bruh/quiche110.jpg</td>\n",
              "      <td>quiche</td>\n",
              "      <td>savory pie</td>\n",
              "      <td>savory pie</td>\n",
              "      <td>75</td>\n",
              "    </tr>\n",
              "    <tr>\n",
              "      <th>3</th>\n",
              "      <td>/content/images/Bruh/cornbread50.jpg</td>\n",
              "      <td>cornbread</td>\n",
              "      <td>bread</td>\n",
              "      <td>cornbread</td>\n",
              "      <td>27</td>\n",
              "    </tr>\n",
              "    <tr>\n",
              "      <th>5</th>\n",
              "      <td>/content/images/Bruh/beef steak58.jpg</td>\n",
              "      <td>beef steak</td>\n",
              "      <td>beef dish</td>\n",
              "      <td>beef dish</td>\n",
              "      <td>4</td>\n",
              "    </tr>\n",
              "  </tbody>\n",
              "</table>\n",
              "</div>"
            ],
            "text/plain": [
              "                                       image_url  ... target\n",
              "0  /content/images/Bruh/tarta_de_santiago118.jpg  ...     15\n",
              "1               /content/images/Bruh/bacon76.jpg  ...      0\n",
              "2             /content/images/Bruh/quiche110.jpg  ...     75\n",
              "3           /content/images/Bruh/cornbread50.jpg  ...     27\n",
              "5          /content/images/Bruh/beef steak58.jpg  ...      4\n",
              "\n",
              "[5 rows x 5 columns]"
            ]
          },
          "metadata": {
            "tags": []
          },
          "execution_count": 20
        }
      ]
    },
    {
      "cell_type": "code",
      "metadata": {
        "id": "_7a4TJVnI5_w"
      },
      "source": [
        "# https://medium.com/analytics-vidhya/dealing-with-pytorch-custom-datasets-64b6c40fe581\r\n",
        "class CustomDatasetFromImages(torch.utils.data.Dataset):\r\n",
        "    def __init__(self, dataframe, transform):\r\n",
        "        \"\"\"\r\n",
        "        Args:\r\n",
        "            csv_path (string): path to csv file\r\n",
        "            img_path (string): path to the folder where images are\r\n",
        "            transform: pytorch transforms for transforms and tensor conversion\r\n",
        "        \"\"\"\r\n",
        "        self.data_info = dataframe\r\n",
        "        self.image_arr = np.asarray(self.data_info.iloc[:, 0])\r\n",
        "        self.label_arr = np.asarray(self.data_info.iloc[:, 4])\r\n",
        "        self.data_len = len(self.data_info.index)\r\n",
        "        self.transforms = transform\r\n",
        "\r\n",
        "    def __getitem__(self, index):\r\n",
        "        single_image_name = self.image_arr[index]\r\n",
        "        img_as_img = Image.open(single_image_name).convert(\"RGB\")\r\n",
        "        tensor_image = self.transforms(img_as_img)\r\n",
        "        single_image_label = self.label_arr[index]\r\n",
        "\r\n",
        "        return (tensor_image, single_image_label)\r\n",
        "\r\n",
        "    def __len__(self):\r\n",
        "        return self.data_len"
      ],
      "execution_count": null,
      "outputs": []
    },
    {
      "cell_type": "code",
      "metadata": {
        "colab": {
          "base_uri": "https://localhost:8080/"
        },
        "id": "D0DePsYlI-T4",
        "outputId": "28ff1064-06f9-4583-914a-457459425c30"
      },
      "source": [
        "import numpy as np\r\n",
        "import torch\r\n",
        "import clip\r\n",
        "from PIL import Image\r\n",
        "\r\n",
        "if torch.cuda.is_available():\r\n",
        "  device = \"cuda\"\r\n",
        "else:\r\n",
        "  device = \"cpu\"\r\n",
        "\r\n",
        "model, transform = clip.load(\"ViT-B/32\", device=device) #loading the clip checkpoints\r\n",
        "input_resolution = model.input_resolution.item()\r\n",
        "context_length = model.context_length.item()\r\n",
        "vocab_size = model.vocab_size.item()\r\n",
        "\r\n",
        "print(\"Model parameters:\", f\"{np.sum([int(np.prod(p.shape)) for p in model.parameters()]):,}\")\r\n",
        "print(\"Input resolution:\", input_resolution)\r\n",
        "print(\"Context length:\", context_length)\r\n",
        "print(\"Vocab size:\", vocab_size)"
      ],
      "execution_count": null,
      "outputs": [
        {
          "output_type": "stream",
          "text": [
            "100%|████████████████████████████████████████| 354M/354M [00:02<00:00, 162MiB/s]\n"
          ],
          "name": "stderr"
        },
        {
          "output_type": "stream",
          "text": [
            "Model parameters: 151,277,313\n",
            "Input resolution: 224\n",
            "Context length: 77\n",
            "Vocab size: 49408\n"
          ],
          "name": "stdout"
        }
      ]
    },
    {
      "cell_type": "code",
      "metadata": {
        "id": "2LEIRHt8JCKI"
      },
      "source": [
        "from torch.utils.data import DataLoader\r\n",
        "import torch\r\n",
        "import clip\r\n",
        "from PIL import Image\r\n",
        "from tqdm import tqdm\r\n",
        "\r\n",
        "if torch.cuda.is_available():\r\n",
        "  device = \"cuda\"\r\n",
        "else:\r\n",
        "  device = \"cpu\"\r\n",
        "\r\n",
        "model, preprocess = clip.load(\"ViT-B/32\", device=device) #loading the clip checkpoints\r\n",
        "test_dataset = CustomDatasetFromImages(main_df, transform=preprocess)"
      ],
      "execution_count": null,
      "outputs": []
    },
    {
      "cell_type": "code",
      "metadata": {
        "id": "IzC6PEG-JxlP"
      },
      "source": [
        "torch.manual_seed(42)\r\n",
        "\r\n",
        "def get_features(dataset):\r\n",
        "    all_features = []\r\n",
        "    all_labels = []\r\n",
        "    \r\n",
        "    with torch.no_grad():\r\n",
        "        for images, labels in tqdm(DataLoader(dataset, batch_size=100)):\r\n",
        "            features = model.encode_image(images.to(device))\r\n",
        "\r\n",
        "            all_features.append(features)\r\n",
        "            all_labels.append(labels)\r\n",
        "\r\n",
        "    return torch.cat(all_features).cpu().numpy(), torch.cat(all_labels).cpu().numpy()"
      ],
      "execution_count": null,
      "outputs": []
    },
    {
      "cell_type": "code",
      "metadata": {
        "colab": {
          "base_uri": "https://localhost:8080/"
        },
        "id": "DMegdWl_J4lP",
        "outputId": "7afdb790-a0f9-4bf6-875c-72ebda930cdd"
      },
      "source": [
        "test_features, test_labels = get_features(test_dataset)"
      ],
      "execution_count": null,
      "outputs": [
        {
          "output_type": "stream",
          "text": [
            "100%|██████████| 244/244 [34:35<00:00,  8.50s/it]\n"
          ],
          "name": "stderr"
        }
      ]
    },
    {
      "cell_type": "code",
      "metadata": {
        "id": "ZPm6oo_iJ6Bn",
        "colab": {
          "base_uri": "https://localhost:8080/",
          "height": 198
        },
        "outputId": "87bbac2a-e06b-4dd6-cf8a-6dceddc12263"
      },
      "source": [
        "id_class_name = {k:v for k,v in enumerate(sorted_food)}\r\n",
        "class_id = list(id_class_name.keys())\r\n",
        "class_name = list(id_class_name.values())\r\n",
        "df_id_class = pd.DataFrame({'class_id':class_id,\r\n",
        "                            'class_name':class_name})\r\n",
        "df_id_class.head()"
      ],
      "execution_count": null,
      "outputs": [
        {
          "output_type": "execute_result",
          "data": {
            "text/html": [
              "<div>\n",
              "<style scoped>\n",
              "    .dataframe tbody tr th:only-of-type {\n",
              "        vertical-align: middle;\n",
              "    }\n",
              "\n",
              "    .dataframe tbody tr th {\n",
              "        vertical-align: top;\n",
              "    }\n",
              "\n",
              "    .dataframe thead th {\n",
              "        text-align: right;\n",
              "    }\n",
              "</style>\n",
              "<table border=\"1\" class=\"dataframe\">\n",
              "  <thead>\n",
              "    <tr style=\"text-align: right;\">\n",
              "      <th></th>\n",
              "      <th>class_id</th>\n",
              "      <th>class_name</th>\n",
              "    </tr>\n",
              "  </thead>\n",
              "  <tbody>\n",
              "    <tr>\n",
              "      <th>0</th>\n",
              "      <td>0</td>\n",
              "      <td>bacon</td>\n",
              "    </tr>\n",
              "    <tr>\n",
              "      <th>1</th>\n",
              "      <td>1</td>\n",
              "      <td>bagel</td>\n",
              "    </tr>\n",
              "    <tr>\n",
              "      <th>2</th>\n",
              "      <td>2</td>\n",
              "      <td>baked potato</td>\n",
              "    </tr>\n",
              "    <tr>\n",
              "      <th>3</th>\n",
              "      <td>3</td>\n",
              "      <td>baklava</td>\n",
              "    </tr>\n",
              "    <tr>\n",
              "      <th>4</th>\n",
              "      <td>4</td>\n",
              "      <td>beef dish</td>\n",
              "    </tr>\n",
              "  </tbody>\n",
              "</table>\n",
              "</div>"
            ],
            "text/plain": [
              "   class_id    class_name\n",
              "0         0         bacon\n",
              "1         1         bagel\n",
              "2         2  baked potato\n",
              "3         3       baklava\n",
              "4         4     beef dish"
            ]
          },
          "metadata": {
            "tags": []
          },
          "execution_count": 28
        }
      ]
    },
    {
      "cell_type": "code",
      "metadata": {
        "id": "wPBOjff3Qroc"
      },
      "source": [
        "text_descriptions = [f\"This is a photo of a {label}, a type of food.\" for label in df_id_class['class_name']]"
      ],
      "execution_count": null,
      "outputs": []
    },
    {
      "cell_type": "code",
      "metadata": {
        "id": "UdiDv7P1Qrq7"
      },
      "source": [
        "texts = clip.tokenize(text_descriptions).to('cpu') "
      ],
      "execution_count": null,
      "outputs": []
    },
    {
      "cell_type": "code",
      "metadata": {
        "id": "Xb91j5McQruh"
      },
      "source": [
        "def get_topk(texts, test_features, test_labels, top_k=(1,5)):\r\n",
        "  with torch.no_grad():\r\n",
        "    text_features = model.encode_text(texts).float()\r\n",
        "    image_features = test_features\r\n",
        "    image_features = torch.from_numpy(image_features)\r\n",
        "    image_features /= image_features.norm(dim=-1, keepdim=True)\r\n",
        "    text_features /= text_features.norm(dim=-1, keepdim=True)\r\n",
        "    text_probs = (100.0 * image_features @ text_features.T).softmax(dim=-1)\r\n",
        "    _max = max(top_k)\r\n",
        "    top_probs, top_labels = text_probs.cpu().topk(_max, dim=-1)\r\n",
        "    pred = top_labels.t()\r\n",
        "    target = torch.from_numpy(test_labels)\r\n",
        "    correct = pred.eq(target.view(1, -1).expand_as(pred))\r\n",
        "    res = []\r\n",
        "    for k in top_k:\r\n",
        "      correct_k = correct[:k].reshape(-1).float().sum(0)\r\n",
        "      res.append(correct_k.mul_(100.0 / len(test_labels)))\r\n",
        "    inter_tensor = torch.stack(res)\r\n",
        "    top1 = inter_tensor.data[0].item()\r\n",
        "    top5 = inter_tensor.data[1].item()\r\n",
        "    print(f'Top 1 accuracy is {top1}'.format(top1))\r\n",
        "    print(f'Top {_max} accuracy is {top5}'.format({_max}, top5))\r\n"
      ],
      "execution_count": null,
      "outputs": []
    },
    {
      "cell_type": "code",
      "metadata": {
        "colab": {
          "base_uri": "https://localhost:8080/"
        },
        "id": "r4fXK3i_QyON",
        "outputId": "04c0d71e-fc33-49ed-b8d8-302fcac17920"
      },
      "source": [
        "get_topk(texts, test_features, test_labels, top_k=(1,2))"
      ],
      "execution_count": null,
      "outputs": [
        {
          "output_type": "stream",
          "text": [
            "Top 1 accuracy is 37.15153884887695\n",
            "Top 2 accuracy is 51.155723571777344\n"
          ],
          "name": "stdout"
        }
      ]
    },
    {
      "cell_type": "code",
      "metadata": {
        "colab": {
          "base_uri": "https://localhost:8080/"
        },
        "id": "5Ci7LI6YQz63",
        "outputId": "e3431ddc-ac35-4d9a-961d-b3e3bc8b122d"
      },
      "source": [
        "get_topk(texts, test_features, test_labels, top_k=(1,3))"
      ],
      "execution_count": null,
      "outputs": [
        {
          "output_type": "stream",
          "text": [
            "Top 1 accuracy is 37.15153884887695\n",
            "Top 3 accuracy is 59.92527770996094\n"
          ],
          "name": "stdout"
        }
      ]
    },
    {
      "cell_type": "code",
      "metadata": {
        "colab": {
          "base_uri": "https://localhost:8080/"
        },
        "id": "plxGc3ybQz-v",
        "outputId": "144cf7d2-f3bb-419c-fa18-d6f0d127cb06"
      },
      "source": [
        "get_topk(texts, test_features, test_labels, top_k=(1,5))"
      ],
      "execution_count": null,
      "outputs": [
        {
          "output_type": "stream",
          "text": [
            "Top 1 accuracy is 37.15153884887695\n",
            "Top 5 accuracy is 70.80510711669922\n"
          ],
          "name": "stdout"
        }
      ]
    },
    {
      "cell_type": "code",
      "metadata": {
        "id": "sPsqGIOCRj9J"
      },
      "source": [
        ""
      ],
      "execution_count": null,
      "outputs": []
    },
    {
      "cell_type": "code",
      "metadata": {
        "id": "ctwTsvnjRkAH"
      },
      "source": [
        "from sklearn.model_selection import train_test_split\r\n",
        "\r\n",
        "X_train, X_test, y_train, y_test = train_test_split(test_features, test_labels, test_size=0.33, \r\n",
        "                                                    random_state=42, stratify=test_labels)"
      ],
      "execution_count": null,
      "outputs": []
    },
    {
      "cell_type": "code",
      "metadata": {
        "id": "mb6ca2pdRkCp"
      },
      "source": [
        "# from sklearn.model_selection import cross_val_score\r\n",
        "# from sklearn.linear_model import LogisticRegression\r\n",
        "\r\n",
        "# #Evaluate L1 regularization strengths for reducing features in final model \r\n",
        "# C = [1, 5, 10, 11, 12, 13, 14] # As C decreases, more coefficients go to zero\r\n",
        "\r\n",
        "# for c in C:\r\n",
        "#     clf = LogisticRegression(penalty='l2', C=c, solver='liblinear', class_weight=\"balanced\")\r\n",
        "#     # using data before splitting (X_scaled) and (y)\r\n",
        "#     scores = cross_val_score(clf, X_train, y_train, cv=5, scoring=\"accuracy\")  #<-- add this\r\n",
        "#     print(scores)  #<-- add this"
      ],
      "execution_count": null,
      "outputs": []
    },
    {
      "cell_type": "code",
      "metadata": {
        "colab": {
          "base_uri": "https://localhost:8080/"
        },
        "id": "vlq9Uwl3RkFV",
        "outputId": "c9f077e9-6f5a-4868-ee2f-1d27492ddf2c"
      },
      "source": [
        "from sklearn.linear_model import LogisticRegression\r\n",
        "# Perform logistic regression\r\n",
        "# *Note that the C value should be determined via a hyperparameter sweep using a validation split.\r\n",
        "classifier = LogisticRegression(random_state=0, C=14, verbose=1, solver='liblinear', penalty='l2')\r\n",
        "classifier.fit(X_train, y_train)"
      ],
      "execution_count": null,
      "outputs": [
        {
          "output_type": "stream",
          "text": [
            "[LibLinear]"
          ],
          "name": "stdout"
        },
        {
          "output_type": "execute_result",
          "data": {
            "text/plain": [
              "LogisticRegression(C=14, class_weight=None, dual=False, fit_intercept=True,\n",
              "                   intercept_scaling=1, l1_ratio=None, max_iter=100,\n",
              "                   multi_class='auto', n_jobs=None, penalty='l2',\n",
              "                   random_state=0, solver='liblinear', tol=0.0001, verbose=1,\n",
              "                   warm_start=False)"
            ]
          },
          "metadata": {
            "tags": []
          },
          "execution_count": 36
        }
      ]
    },
    {
      "cell_type": "code",
      "metadata": {
        "id": "Dhom4AX5RkID"
      },
      "source": [
        "def get_topk(classifier, X_test, y_test, top_k = (1, 5)):\r\n",
        "  predictions = classifier.predict(X_test)\r\n",
        "  probs = classifier.predict_proba(X_test)\r\n",
        "  _max = max(top_k)\r\n",
        "  best = np.argsort(probs, axis=1)[:,-(_max):]\r\n",
        "  pred = torch.from_numpy(np.transpose(best))\r\n",
        "  target = torch.from_numpy(y_test)\r\n",
        "  correct = pred.eq(target.view(1, -1).expand_as(pred))\r\n",
        "  res = []\r\n",
        "  for k in top_k:\r\n",
        "    correct_k = correct[:k].reshape(-1).float().sum(0)\r\n",
        "    res.append(correct_k.mul_(100.0 / len(y_test)))\r\n",
        "  inter_tensor = torch.stack(res)\r\n",
        "  top5 = inter_tensor.data[1].item()\r\n",
        "  top1 = np.mean((y_test == predictions))*100\r\n",
        "  print(f'Top 1 accuracy is {top1}'.format(top1))\r\n",
        "  print(f'Top {_max} accuracy is {top5}'.format(_max, top5))"
      ],
      "execution_count": null,
      "outputs": []
    },
    {
      "cell_type": "code",
      "metadata": {
        "colab": {
          "base_uri": "https://localhost:8080/"
        },
        "id": "Z4bCHcoLRkKu",
        "outputId": "1429c020-c32e-44dc-dd8e-7fd572e0dc11"
      },
      "source": [
        "get_topk(classifier, X_test, y_test, top_k = (1,2))"
      ],
      "execution_count": null,
      "outputs": [
        {
          "output_type": "stream",
          "text": [
            "Top 1 accuracy is 74.64543418760886\n",
            "Top 2 accuracy is 87.27295684814453\n"
          ],
          "name": "stdout"
        }
      ]
    },
    {
      "cell_type": "code",
      "metadata": {
        "colab": {
          "base_uri": "https://localhost:8080/"
        },
        "id": "c7n9PFo8RkNu",
        "outputId": "1f739480-e4a1-4a79-d13f-0a9acc56fb96"
      },
      "source": [
        "get_topk(classifier, X_test, y_test, top_k = (1, 3))"
      ],
      "execution_count": null,
      "outputs": [
        {
          "output_type": "stream",
          "text": [
            "Top 1 accuracy is 74.64543418760886\n",
            "Top 3 accuracy is 92.10002899169922\n"
          ],
          "name": "stdout"
        }
      ]
    },
    {
      "cell_type": "code",
      "metadata": {
        "colab": {
          "base_uri": "https://localhost:8080/"
        },
        "id": "kgDSh1QwRkWj",
        "outputId": "87f5e41a-c300-4d91-93ff-435ba0fba57e"
      },
      "source": [
        "get_topk(classifier, X_test, y_test, top_k = (1, 5))"
      ],
      "execution_count": null,
      "outputs": [
        {
          "output_type": "stream",
          "text": [
            "Top 1 accuracy is 74.64543418760886\n",
            "Top 5 accuracy is 95.8322982788086\n"
          ],
          "name": "stdout"
        }
      ]
    },
    {
      "cell_type": "code",
      "metadata": {
        "id": "sD3WkrIls4iK"
      },
      "source": [
        ""
      ],
      "execution_count": null,
      "outputs": []
    }
  ]
}