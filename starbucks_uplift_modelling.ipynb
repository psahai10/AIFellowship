{
  "nbformat": 4,
  "nbformat_minor": 0,
  "metadata": {
    "colab": {
      "name": "starbucks_uplift_modelling.ipynb",
      "provenance": [],
      "collapsed_sections": [],
      "machine_shape": "hm",
      "authorship_tag": "ABX9TyNPu8fqwy8PpPZwK3NlDDwr",
      "include_colab_link": true
    },
    "kernelspec": {
      "name": "python3",
      "display_name": "Python 3"
    }
  },
  "cells": [
    {
      "cell_type": "markdown",
      "metadata": {
        "id": "view-in-github",
        "colab_type": "text"
      },
      "source": [
        "<a href=\"https://colab.research.google.com/github/psahai10/AIFellowship/blob/main/starbucks_uplift_modelling.ipynb\" target=\"_parent\"><img src=\"https://colab.research.google.com/assets/colab-badge.svg\" alt=\"Open In Colab\"/></a>"
      ]
    },
    {
      "cell_type": "code",
      "metadata": {
        "id": "s2BTT1jKxTyu"
      },
      "source": [
        ""
      ],
      "execution_count": null,
      "outputs": []
    },
    {
      "cell_type": "code",
      "metadata": {
        "colab": {
          "base_uri": "https://localhost:8080/"
        },
        "id": "5JfRYWO4wzSV",
        "outputId": "95b0c17f-7fdb-4e9e-a663-c107658c0f9c"
      },
      "source": [
        "\r\n",
        "from IPython.display import display, HTML\r\n",
        "import pandas as pd\r\n",
        "import numpy as np\r\n",
        "import math\r\n",
        "import json\r\n",
        "import matplotlib.pyplot as plt\r\n",
        "% matplotlib inline\r\n",
        "import seaborn as sns\r\n",
        "import xgboost\r\n",
        "from tqdm import tqdm\r\n",
        "tqdm.pandas()\r\n",
        "\r\n",
        "\r\n",
        "#import causallift\r\n",
        "#from causallift import CausalLift\r\n",
        "\r\n",
        "\r\n",
        "from itertools import combinations\r\n",
        "from sklearn.ensemble import GradientBoostingClassifier, RandomForestClassifier\r\n",
        "from sklearn.utils import resample\r\n",
        "from sklearn.model_selection import train_test_split"
      ],
      "execution_count": null,
      "outputs": [
        {
          "output_type": "stream",
          "text": [
            "/usr/local/lib/python3.7/dist-packages/tqdm/std.py:658: FutureWarning: The Panel class is removed from pandas. Accessing it from the top-level namespace will also be removed in the next version\n",
            "  from pandas import Panel\n"
          ],
          "name": "stderr"
        }
      ]
    },
    {
      "cell_type": "code",
      "metadata": {
        "colab": {
          "base_uri": "https://localhost:8080/"
        },
        "id": "uTEpNWxVxUMU",
        "outputId": "bedf1687-c5aa-4faa-9600-ff77e83e8091"
      },
      "source": [
        "from google.colab import drive\r\n",
        "drive.mount('/content/drive')"
      ],
      "execution_count": null,
      "outputs": [
        {
          "output_type": "stream",
          "text": [
            "Mounted at /content/drive\n"
          ],
          "name": "stdout"
        }
      ]
    },
    {
      "cell_type": "code",
      "metadata": {
        "id": "BcPwm05axUuL"
      },
      "source": [
        "# read in the json files\r\n",
        "portfolio = pd.read_json('/content/drive/My Drive/portfolio.json', orient='records', lines=True)\r\n",
        "profile = pd.read_json('/content/drive/My Drive/profile.json', orient='records', lines=True)\r\n",
        "transcript = pd.read_json('/content/drive/My Drive/transcript.json', orient='records', lines=True)"
      ],
      "execution_count": null,
      "outputs": []
    },
    {
      "cell_type": "code",
      "metadata": {
        "id": "ID-heoz3xlYq"
      },
      "source": [
        "def explore_data(df):\r\n",
        "    print(str())\r\n",
        "    display(df.head())\r\n",
        "    display(df.shape)\r\n",
        "    display(df.dtypes)\r\n",
        "    display(np.sum(df.isnull()))\r\n",
        "    display(df.describe())\r\n",
        "    print(\"-------------------------------\")"
      ],
      "execution_count": null,
      "outputs": []
    },
    {
      "cell_type": "code",
      "metadata": {
        "colab": {
          "base_uri": "https://localhost:8080/",
          "height": 724
        },
        "id": "VRkZIWhcxvca",
        "outputId": "39c4ba3d-3414-408d-d46d-43234dae9c93"
      },
      "source": [
        "display(explore_data(transcript))"
      ],
      "execution_count": null,
      "outputs": [
        {
          "output_type": "stream",
          "text": [
            "\n"
          ],
          "name": "stdout"
        },
        {
          "output_type": "display_data",
          "data": {
            "text/html": [
              "<div>\n",
              "<style scoped>\n",
              "    .dataframe tbody tr th:only-of-type {\n",
              "        vertical-align: middle;\n",
              "    }\n",
              "\n",
              "    .dataframe tbody tr th {\n",
              "        vertical-align: top;\n",
              "    }\n",
              "\n",
              "    .dataframe thead th {\n",
              "        text-align: right;\n",
              "    }\n",
              "</style>\n",
              "<table border=\"1\" class=\"dataframe\">\n",
              "  <thead>\n",
              "    <tr style=\"text-align: right;\">\n",
              "      <th></th>\n",
              "      <th>person</th>\n",
              "      <th>event</th>\n",
              "      <th>value</th>\n",
              "      <th>time</th>\n",
              "    </tr>\n",
              "  </thead>\n",
              "  <tbody>\n",
              "    <tr>\n",
              "      <th>0</th>\n",
              "      <td>78afa995795e4d85b5d9ceeca43f5fef</td>\n",
              "      <td>offer received</td>\n",
              "      <td>{'offer id': '9b98b8c7a33c4b65b9aebfe6a799e6d9'}</td>\n",
              "      <td>0</td>\n",
              "    </tr>\n",
              "    <tr>\n",
              "      <th>1</th>\n",
              "      <td>a03223e636434f42ac4c3df47e8bac43</td>\n",
              "      <td>offer received</td>\n",
              "      <td>{'offer id': '0b1e1539f2cc45b7b9fa7c272da2e1d7'}</td>\n",
              "      <td>0</td>\n",
              "    </tr>\n",
              "    <tr>\n",
              "      <th>2</th>\n",
              "      <td>e2127556f4f64592b11af22de27a7932</td>\n",
              "      <td>offer received</td>\n",
              "      <td>{'offer id': '2906b810c7d4411798c6938adc9daaa5'}</td>\n",
              "      <td>0</td>\n",
              "    </tr>\n",
              "    <tr>\n",
              "      <th>3</th>\n",
              "      <td>8ec6ce2a7e7949b1bf142def7d0e0586</td>\n",
              "      <td>offer received</td>\n",
              "      <td>{'offer id': 'fafdcd668e3743c1bb461111dcafc2a4'}</td>\n",
              "      <td>0</td>\n",
              "    </tr>\n",
              "    <tr>\n",
              "      <th>4</th>\n",
              "      <td>68617ca6246f4fbc85e91a2a49552598</td>\n",
              "      <td>offer received</td>\n",
              "      <td>{'offer id': '4d5c57ea9a6940dd891ad53e9dbe8da0'}</td>\n",
              "      <td>0</td>\n",
              "    </tr>\n",
              "  </tbody>\n",
              "</table>\n",
              "</div>"
            ],
            "text/plain": [
              "                             person  ... time\n",
              "0  78afa995795e4d85b5d9ceeca43f5fef  ...    0\n",
              "1  a03223e636434f42ac4c3df47e8bac43  ...    0\n",
              "2  e2127556f4f64592b11af22de27a7932  ...    0\n",
              "3  8ec6ce2a7e7949b1bf142def7d0e0586  ...    0\n",
              "4  68617ca6246f4fbc85e91a2a49552598  ...    0\n",
              "\n",
              "[5 rows x 4 columns]"
            ]
          },
          "metadata": {
            "tags": []
          }
        },
        {
          "output_type": "display_data",
          "data": {
            "text/plain": [
              "(306534, 4)"
            ]
          },
          "metadata": {
            "tags": []
          }
        },
        {
          "output_type": "display_data",
          "data": {
            "text/plain": [
              "person    object\n",
              "event     object\n",
              "value     object\n",
              "time       int64\n",
              "dtype: object"
            ]
          },
          "metadata": {
            "tags": []
          }
        },
        {
          "output_type": "display_data",
          "data": {
            "text/plain": [
              "person    0\n",
              "event     0\n",
              "value     0\n",
              "time      0\n",
              "dtype: int64"
            ]
          },
          "metadata": {
            "tags": []
          }
        },
        {
          "output_type": "display_data",
          "data": {
            "text/html": [
              "<div>\n",
              "<style scoped>\n",
              "    .dataframe tbody tr th:only-of-type {\n",
              "        vertical-align: middle;\n",
              "    }\n",
              "\n",
              "    .dataframe tbody tr th {\n",
              "        vertical-align: top;\n",
              "    }\n",
              "\n",
              "    .dataframe thead th {\n",
              "        text-align: right;\n",
              "    }\n",
              "</style>\n",
              "<table border=\"1\" class=\"dataframe\">\n",
              "  <thead>\n",
              "    <tr style=\"text-align: right;\">\n",
              "      <th></th>\n",
              "      <th>time</th>\n",
              "    </tr>\n",
              "  </thead>\n",
              "  <tbody>\n",
              "    <tr>\n",
              "      <th>count</th>\n",
              "      <td>306534.000000</td>\n",
              "    </tr>\n",
              "    <tr>\n",
              "      <th>mean</th>\n",
              "      <td>366.382940</td>\n",
              "    </tr>\n",
              "    <tr>\n",
              "      <th>std</th>\n",
              "      <td>200.326314</td>\n",
              "    </tr>\n",
              "    <tr>\n",
              "      <th>min</th>\n",
              "      <td>0.000000</td>\n",
              "    </tr>\n",
              "    <tr>\n",
              "      <th>25%</th>\n",
              "      <td>186.000000</td>\n",
              "    </tr>\n",
              "    <tr>\n",
              "      <th>50%</th>\n",
              "      <td>408.000000</td>\n",
              "    </tr>\n",
              "    <tr>\n",
              "      <th>75%</th>\n",
              "      <td>528.000000</td>\n",
              "    </tr>\n",
              "    <tr>\n",
              "      <th>max</th>\n",
              "      <td>714.000000</td>\n",
              "    </tr>\n",
              "  </tbody>\n",
              "</table>\n",
              "</div>"
            ],
            "text/plain": [
              "                time\n",
              "count  306534.000000\n",
              "mean      366.382940\n",
              "std       200.326314\n",
              "min         0.000000\n",
              "25%       186.000000\n",
              "50%       408.000000\n",
              "75%       528.000000\n",
              "max       714.000000"
            ]
          },
          "metadata": {
            "tags": []
          }
        },
        {
          "output_type": "stream",
          "text": [
            "-------------------------------\n"
          ],
          "name": "stdout"
        },
        {
          "output_type": "display_data",
          "data": {
            "text/plain": [
              "None"
            ]
          },
          "metadata": {
            "tags": []
          }
        }
      ]
    },
    {
      "cell_type": "code",
      "metadata": {
        "colab": {
          "base_uri": "https://localhost:8080/",
          "height": 198
        },
        "id": "pMCs2ImdxwIi",
        "outputId": "68b3cebd-94f4-4e0b-9e7d-19dae798f863"
      },
      "source": [
        "transcript = transcript.rename(columns={'person': 'id'})\r\n",
        "\r\n",
        "transcript.head()"
      ],
      "execution_count": null,
      "outputs": [
        {
          "output_type": "execute_result",
          "data": {
            "text/html": [
              "<div>\n",
              "<style scoped>\n",
              "    .dataframe tbody tr th:only-of-type {\n",
              "        vertical-align: middle;\n",
              "    }\n",
              "\n",
              "    .dataframe tbody tr th {\n",
              "        vertical-align: top;\n",
              "    }\n",
              "\n",
              "    .dataframe thead th {\n",
              "        text-align: right;\n",
              "    }\n",
              "</style>\n",
              "<table border=\"1\" class=\"dataframe\">\n",
              "  <thead>\n",
              "    <tr style=\"text-align: right;\">\n",
              "      <th></th>\n",
              "      <th>id</th>\n",
              "      <th>event</th>\n",
              "      <th>value</th>\n",
              "      <th>time</th>\n",
              "    </tr>\n",
              "  </thead>\n",
              "  <tbody>\n",
              "    <tr>\n",
              "      <th>0</th>\n",
              "      <td>78afa995795e4d85b5d9ceeca43f5fef</td>\n",
              "      <td>offer received</td>\n",
              "      <td>{'offer id': '9b98b8c7a33c4b65b9aebfe6a799e6d9'}</td>\n",
              "      <td>0</td>\n",
              "    </tr>\n",
              "    <tr>\n",
              "      <th>1</th>\n",
              "      <td>a03223e636434f42ac4c3df47e8bac43</td>\n",
              "      <td>offer received</td>\n",
              "      <td>{'offer id': '0b1e1539f2cc45b7b9fa7c272da2e1d7'}</td>\n",
              "      <td>0</td>\n",
              "    </tr>\n",
              "    <tr>\n",
              "      <th>2</th>\n",
              "      <td>e2127556f4f64592b11af22de27a7932</td>\n",
              "      <td>offer received</td>\n",
              "      <td>{'offer id': '2906b810c7d4411798c6938adc9daaa5'}</td>\n",
              "      <td>0</td>\n",
              "    </tr>\n",
              "    <tr>\n",
              "      <th>3</th>\n",
              "      <td>8ec6ce2a7e7949b1bf142def7d0e0586</td>\n",
              "      <td>offer received</td>\n",
              "      <td>{'offer id': 'fafdcd668e3743c1bb461111dcafc2a4'}</td>\n",
              "      <td>0</td>\n",
              "    </tr>\n",
              "    <tr>\n",
              "      <th>4</th>\n",
              "      <td>68617ca6246f4fbc85e91a2a49552598</td>\n",
              "      <td>offer received</td>\n",
              "      <td>{'offer id': '4d5c57ea9a6940dd891ad53e9dbe8da0'}</td>\n",
              "      <td>0</td>\n",
              "    </tr>\n",
              "  </tbody>\n",
              "</table>\n",
              "</div>"
            ],
            "text/plain": [
              "                                 id  ... time\n",
              "0  78afa995795e4d85b5d9ceeca43f5fef  ...    0\n",
              "1  a03223e636434f42ac4c3df47e8bac43  ...    0\n",
              "2  e2127556f4f64592b11af22de27a7932  ...    0\n",
              "3  8ec6ce2a7e7949b1bf142def7d0e0586  ...    0\n",
              "4  68617ca6246f4fbc85e91a2a49552598  ...    0\n",
              "\n",
              "[5 rows x 4 columns]"
            ]
          },
          "metadata": {
            "tags": []
          },
          "execution_count": 6
        }
      ]
    },
    {
      "cell_type": "code",
      "metadata": {
        "colab": {
          "base_uri": "https://localhost:8080/"
        },
        "id": "eQhNSMhIx4p6",
        "outputId": "cc72b6d5-5bff-440d-893f-f8fe5e34905d"
      },
      "source": [
        "transcript.event.value_counts()"
      ],
      "execution_count": null,
      "outputs": [
        {
          "output_type": "execute_result",
          "data": {
            "text/plain": [
              "transaction        138953\n",
              "offer received      76277\n",
              "offer viewed        57725\n",
              "offer completed     33579\n",
              "Name: event, dtype: int64"
            ]
          },
          "metadata": {
            "tags": []
          },
          "execution_count": 7
        }
      ]
    },
    {
      "cell_type": "code",
      "metadata": {
        "colab": {
          "base_uri": "https://localhost:8080/",
          "height": 385
        },
        "id": "f9WwgxBBx7Fi",
        "outputId": "dbcc67c4-9e6e-42f8-b830-e1cf71a31357"
      },
      "source": [
        "from pandas.io.json import json_normalize\r\n",
        "normalized_value = json_normalize(transcript['value'])\r\n",
        "\r\n",
        "normalized_value.head(10)"
      ],
      "execution_count": null,
      "outputs": [
        {
          "output_type": "stream",
          "text": [
            "/usr/local/lib/python3.7/dist-packages/ipykernel_launcher.py:2: FutureWarning: pandas.io.json.json_normalize is deprecated, use pandas.json_normalize instead\n",
            "  \n"
          ],
          "name": "stderr"
        },
        {
          "output_type": "execute_result",
          "data": {
            "text/html": [
              "<div>\n",
              "<style scoped>\n",
              "    .dataframe tbody tr th:only-of-type {\n",
              "        vertical-align: middle;\n",
              "    }\n",
              "\n",
              "    .dataframe tbody tr th {\n",
              "        vertical-align: top;\n",
              "    }\n",
              "\n",
              "    .dataframe thead th {\n",
              "        text-align: right;\n",
              "    }\n",
              "</style>\n",
              "<table border=\"1\" class=\"dataframe\">\n",
              "  <thead>\n",
              "    <tr style=\"text-align: right;\">\n",
              "      <th></th>\n",
              "      <th>offer id</th>\n",
              "      <th>amount</th>\n",
              "      <th>offer_id</th>\n",
              "      <th>reward</th>\n",
              "    </tr>\n",
              "  </thead>\n",
              "  <tbody>\n",
              "    <tr>\n",
              "      <th>0</th>\n",
              "      <td>9b98b8c7a33c4b65b9aebfe6a799e6d9</td>\n",
              "      <td>NaN</td>\n",
              "      <td>NaN</td>\n",
              "      <td>NaN</td>\n",
              "    </tr>\n",
              "    <tr>\n",
              "      <th>1</th>\n",
              "      <td>0b1e1539f2cc45b7b9fa7c272da2e1d7</td>\n",
              "      <td>NaN</td>\n",
              "      <td>NaN</td>\n",
              "      <td>NaN</td>\n",
              "    </tr>\n",
              "    <tr>\n",
              "      <th>2</th>\n",
              "      <td>2906b810c7d4411798c6938adc9daaa5</td>\n",
              "      <td>NaN</td>\n",
              "      <td>NaN</td>\n",
              "      <td>NaN</td>\n",
              "    </tr>\n",
              "    <tr>\n",
              "      <th>3</th>\n",
              "      <td>fafdcd668e3743c1bb461111dcafc2a4</td>\n",
              "      <td>NaN</td>\n",
              "      <td>NaN</td>\n",
              "      <td>NaN</td>\n",
              "    </tr>\n",
              "    <tr>\n",
              "      <th>4</th>\n",
              "      <td>4d5c57ea9a6940dd891ad53e9dbe8da0</td>\n",
              "      <td>NaN</td>\n",
              "      <td>NaN</td>\n",
              "      <td>NaN</td>\n",
              "    </tr>\n",
              "    <tr>\n",
              "      <th>5</th>\n",
              "      <td>f19421c1d4aa40978ebb69ca19b0e20d</td>\n",
              "      <td>NaN</td>\n",
              "      <td>NaN</td>\n",
              "      <td>NaN</td>\n",
              "    </tr>\n",
              "    <tr>\n",
              "      <th>6</th>\n",
              "      <td>2298d6c36e964ae4a3e7e9706d1fb8c2</td>\n",
              "      <td>NaN</td>\n",
              "      <td>NaN</td>\n",
              "      <td>NaN</td>\n",
              "    </tr>\n",
              "    <tr>\n",
              "      <th>7</th>\n",
              "      <td>3f207df678b143eea3cee63160fa8bed</td>\n",
              "      <td>NaN</td>\n",
              "      <td>NaN</td>\n",
              "      <td>NaN</td>\n",
              "    </tr>\n",
              "    <tr>\n",
              "      <th>8</th>\n",
              "      <td>0b1e1539f2cc45b7b9fa7c272da2e1d7</td>\n",
              "      <td>NaN</td>\n",
              "      <td>NaN</td>\n",
              "      <td>NaN</td>\n",
              "    </tr>\n",
              "    <tr>\n",
              "      <th>9</th>\n",
              "      <td>0b1e1539f2cc45b7b9fa7c272da2e1d7</td>\n",
              "      <td>NaN</td>\n",
              "      <td>NaN</td>\n",
              "      <td>NaN</td>\n",
              "    </tr>\n",
              "  </tbody>\n",
              "</table>\n",
              "</div>"
            ],
            "text/plain": [
              "                           offer id  amount offer_id  reward\n",
              "0  9b98b8c7a33c4b65b9aebfe6a799e6d9     NaN      NaN     NaN\n",
              "1  0b1e1539f2cc45b7b9fa7c272da2e1d7     NaN      NaN     NaN\n",
              "2  2906b810c7d4411798c6938adc9daaa5     NaN      NaN     NaN\n",
              "3  fafdcd668e3743c1bb461111dcafc2a4     NaN      NaN     NaN\n",
              "4  4d5c57ea9a6940dd891ad53e9dbe8da0     NaN      NaN     NaN\n",
              "5  f19421c1d4aa40978ebb69ca19b0e20d     NaN      NaN     NaN\n",
              "6  2298d6c36e964ae4a3e7e9706d1fb8c2     NaN      NaN     NaN\n",
              "7  3f207df678b143eea3cee63160fa8bed     NaN      NaN     NaN\n",
              "8  0b1e1539f2cc45b7b9fa7c272da2e1d7     NaN      NaN     NaN\n",
              "9  0b1e1539f2cc45b7b9fa7c272da2e1d7     NaN      NaN     NaN"
            ]
          },
          "metadata": {
            "tags": []
          },
          "execution_count": 8
        }
      ]
    },
    {
      "cell_type": "code",
      "metadata": {
        "colab": {
          "base_uri": "https://localhost:8080/"
        },
        "id": "UF5Fzp7EzPri",
        "outputId": "deb98af0-7091-4e16-d3b4-44e8e8fe965c"
      },
      "source": [
        "normalized_value['offer id'].value_counts()"
      ],
      "execution_count": null,
      "outputs": [
        {
          "output_type": "execute_result",
          "data": {
            "text/plain": [
              "2298d6c36e964ae4a3e7e9706d1fb8c2    14983\n",
              "fafdcd668e3743c1bb461111dcafc2a4    14924\n",
              "4d5c57ea9a6940dd891ad53e9dbe8da0    14891\n",
              "f19421c1d4aa40978ebb69ca19b0e20d    14835\n",
              "ae264e3637204a6fb9bb56bc8210ddfd    14374\n",
              "5a8bc65990b245e5a138643cd4eb9837    14305\n",
              "9b98b8c7a33c4b65b9aebfe6a799e6d9    11848\n",
              "3f207df678b143eea3cee63160fa8bed    11761\n",
              "2906b810c7d4411798c6938adc9daaa5    11750\n",
              "0b1e1539f2cc45b7b9fa7c272da2e1d7    10331\n",
              "Name: offer id, dtype: int64"
            ]
          },
          "metadata": {
            "tags": []
          },
          "execution_count": 9
        }
      ]
    },
    {
      "cell_type": "code",
      "metadata": {
        "id": "bxaWro1-zSZS"
      },
      "source": [
        "normalized_value['offer_id'] = normalized_value['offer_id'].fillna(normalized_value['offer id'])\r\n",
        "normalized_value = normalized_value.drop(columns=['offer id'], axis=1)"
      ],
      "execution_count": null,
      "outputs": []
    },
    {
      "cell_type": "code",
      "metadata": {
        "colab": {
          "base_uri": "https://localhost:8080/",
          "height": 198
        },
        "id": "0KoB6Di3zUci",
        "outputId": "11aa61fd-f592-4a06-83e3-e93db0de68e5"
      },
      "source": [
        "\r\n",
        "transcript = transcript.merge(normalized_value, left_index=True, right_index=True).drop(columns=['value', 'reward'], axis=1)\r\n",
        "\r\n",
        "transcript.head()"
      ],
      "execution_count": null,
      "outputs": [
        {
          "output_type": "execute_result",
          "data": {
            "text/html": [
              "<div>\n",
              "<style scoped>\n",
              "    .dataframe tbody tr th:only-of-type {\n",
              "        vertical-align: middle;\n",
              "    }\n",
              "\n",
              "    .dataframe tbody tr th {\n",
              "        vertical-align: top;\n",
              "    }\n",
              "\n",
              "    .dataframe thead th {\n",
              "        text-align: right;\n",
              "    }\n",
              "</style>\n",
              "<table border=\"1\" class=\"dataframe\">\n",
              "  <thead>\n",
              "    <tr style=\"text-align: right;\">\n",
              "      <th></th>\n",
              "      <th>id</th>\n",
              "      <th>event</th>\n",
              "      <th>time</th>\n",
              "      <th>amount</th>\n",
              "      <th>offer_id</th>\n",
              "    </tr>\n",
              "  </thead>\n",
              "  <tbody>\n",
              "    <tr>\n",
              "      <th>0</th>\n",
              "      <td>78afa995795e4d85b5d9ceeca43f5fef</td>\n",
              "      <td>offer received</td>\n",
              "      <td>0</td>\n",
              "      <td>NaN</td>\n",
              "      <td>9b98b8c7a33c4b65b9aebfe6a799e6d9</td>\n",
              "    </tr>\n",
              "    <tr>\n",
              "      <th>1</th>\n",
              "      <td>a03223e636434f42ac4c3df47e8bac43</td>\n",
              "      <td>offer received</td>\n",
              "      <td>0</td>\n",
              "      <td>NaN</td>\n",
              "      <td>0b1e1539f2cc45b7b9fa7c272da2e1d7</td>\n",
              "    </tr>\n",
              "    <tr>\n",
              "      <th>2</th>\n",
              "      <td>e2127556f4f64592b11af22de27a7932</td>\n",
              "      <td>offer received</td>\n",
              "      <td>0</td>\n",
              "      <td>NaN</td>\n",
              "      <td>2906b810c7d4411798c6938adc9daaa5</td>\n",
              "    </tr>\n",
              "    <tr>\n",
              "      <th>3</th>\n",
              "      <td>8ec6ce2a7e7949b1bf142def7d0e0586</td>\n",
              "      <td>offer received</td>\n",
              "      <td>0</td>\n",
              "      <td>NaN</td>\n",
              "      <td>fafdcd668e3743c1bb461111dcafc2a4</td>\n",
              "    </tr>\n",
              "    <tr>\n",
              "      <th>4</th>\n",
              "      <td>68617ca6246f4fbc85e91a2a49552598</td>\n",
              "      <td>offer received</td>\n",
              "      <td>0</td>\n",
              "      <td>NaN</td>\n",
              "      <td>4d5c57ea9a6940dd891ad53e9dbe8da0</td>\n",
              "    </tr>\n",
              "  </tbody>\n",
              "</table>\n",
              "</div>"
            ],
            "text/plain": [
              "                                 id  ...                          offer_id\n",
              "0  78afa995795e4d85b5d9ceeca43f5fef  ...  9b98b8c7a33c4b65b9aebfe6a799e6d9\n",
              "1  a03223e636434f42ac4c3df47e8bac43  ...  0b1e1539f2cc45b7b9fa7c272da2e1d7\n",
              "2  e2127556f4f64592b11af22de27a7932  ...  2906b810c7d4411798c6938adc9daaa5\n",
              "3  8ec6ce2a7e7949b1bf142def7d0e0586  ...  fafdcd668e3743c1bb461111dcafc2a4\n",
              "4  68617ca6246f4fbc85e91a2a49552598  ...  4d5c57ea9a6940dd891ad53e9dbe8da0\n",
              "\n",
              "[5 rows x 5 columns]"
            ]
          },
          "metadata": {
            "tags": []
          },
          "execution_count": 11
        }
      ]
    },
    {
      "cell_type": "code",
      "metadata": {
        "colab": {
          "base_uri": "https://localhost:8080/",
          "height": 198
        },
        "id": "Ngy6dp_xzW8f",
        "outputId": "f02952ce-f4f4-491a-af88-39c2a5738bc4"
      },
      "source": [
        "# amount column relates to 'transaction' event value\r\n",
        "transcript[~transcript.amount.isnull()].head()"
      ],
      "execution_count": null,
      "outputs": [
        {
          "output_type": "execute_result",
          "data": {
            "text/html": [
              "<div>\n",
              "<style scoped>\n",
              "    .dataframe tbody tr th:only-of-type {\n",
              "        vertical-align: middle;\n",
              "    }\n",
              "\n",
              "    .dataframe tbody tr th {\n",
              "        vertical-align: top;\n",
              "    }\n",
              "\n",
              "    .dataframe thead th {\n",
              "        text-align: right;\n",
              "    }\n",
              "</style>\n",
              "<table border=\"1\" class=\"dataframe\">\n",
              "  <thead>\n",
              "    <tr style=\"text-align: right;\">\n",
              "      <th></th>\n",
              "      <th>id</th>\n",
              "      <th>event</th>\n",
              "      <th>time</th>\n",
              "      <th>amount</th>\n",
              "      <th>offer_id</th>\n",
              "    </tr>\n",
              "  </thead>\n",
              "  <tbody>\n",
              "    <tr>\n",
              "      <th>12654</th>\n",
              "      <td>02c083884c7d45b39cc68e1314fec56c</td>\n",
              "      <td>transaction</td>\n",
              "      <td>0</td>\n",
              "      <td>0.83</td>\n",
              "      <td>NaN</td>\n",
              "    </tr>\n",
              "    <tr>\n",
              "      <th>12657</th>\n",
              "      <td>9fa9ae8f57894cc9a3b8a9bbe0fc1b2f</td>\n",
              "      <td>transaction</td>\n",
              "      <td>0</td>\n",
              "      <td>34.56</td>\n",
              "      <td>NaN</td>\n",
              "    </tr>\n",
              "    <tr>\n",
              "      <th>12659</th>\n",
              "      <td>54890f68699049c2a04d415abc25e717</td>\n",
              "      <td>transaction</td>\n",
              "      <td>0</td>\n",
              "      <td>13.23</td>\n",
              "      <td>NaN</td>\n",
              "    </tr>\n",
              "    <tr>\n",
              "      <th>12670</th>\n",
              "      <td>b2f1cd155b864803ad8334cdf13c4bd2</td>\n",
              "      <td>transaction</td>\n",
              "      <td>0</td>\n",
              "      <td>19.51</td>\n",
              "      <td>NaN</td>\n",
              "    </tr>\n",
              "    <tr>\n",
              "      <th>12671</th>\n",
              "      <td>fe97aa22dd3e48c8b143116a8403dd52</td>\n",
              "      <td>transaction</td>\n",
              "      <td>0</td>\n",
              "      <td>18.97</td>\n",
              "      <td>NaN</td>\n",
              "    </tr>\n",
              "  </tbody>\n",
              "</table>\n",
              "</div>"
            ],
            "text/plain": [
              "                                     id        event  time  amount offer_id\n",
              "12654  02c083884c7d45b39cc68e1314fec56c  transaction     0    0.83      NaN\n",
              "12657  9fa9ae8f57894cc9a3b8a9bbe0fc1b2f  transaction     0   34.56      NaN\n",
              "12659  54890f68699049c2a04d415abc25e717  transaction     0   13.23      NaN\n",
              "12670  b2f1cd155b864803ad8334cdf13c4bd2  transaction     0   19.51      NaN\n",
              "12671  fe97aa22dd3e48c8b143116a8403dd52  transaction     0   18.97      NaN"
            ]
          },
          "metadata": {
            "tags": []
          },
          "execution_count": 12
        }
      ]
    },
    {
      "cell_type": "code",
      "metadata": {
        "colab": {
          "base_uri": "https://localhost:8080/",
          "height": 760
        },
        "id": "wiEq1Um1ztaH",
        "outputId": "ceb7ddd8-a20a-4388-8198-866df16eeeb4"
      },
      "source": [
        "display(explore_data(profile))"
      ],
      "execution_count": null,
      "outputs": [
        {
          "output_type": "stream",
          "text": [
            "\n"
          ],
          "name": "stdout"
        },
        {
          "output_type": "display_data",
          "data": {
            "text/html": [
              "<div>\n",
              "<style scoped>\n",
              "    .dataframe tbody tr th:only-of-type {\n",
              "        vertical-align: middle;\n",
              "    }\n",
              "\n",
              "    .dataframe tbody tr th {\n",
              "        vertical-align: top;\n",
              "    }\n",
              "\n",
              "    .dataframe thead th {\n",
              "        text-align: right;\n",
              "    }\n",
              "</style>\n",
              "<table border=\"1\" class=\"dataframe\">\n",
              "  <thead>\n",
              "    <tr style=\"text-align: right;\">\n",
              "      <th></th>\n",
              "      <th>gender</th>\n",
              "      <th>age</th>\n",
              "      <th>id</th>\n",
              "      <th>became_member_on</th>\n",
              "      <th>income</th>\n",
              "    </tr>\n",
              "  </thead>\n",
              "  <tbody>\n",
              "    <tr>\n",
              "      <th>0</th>\n",
              "      <td>None</td>\n",
              "      <td>118</td>\n",
              "      <td>68be06ca386d4c31939f3a4f0e3dd783</td>\n",
              "      <td>20170212</td>\n",
              "      <td>NaN</td>\n",
              "    </tr>\n",
              "    <tr>\n",
              "      <th>1</th>\n",
              "      <td>F</td>\n",
              "      <td>55</td>\n",
              "      <td>0610b486422d4921ae7d2bf64640c50b</td>\n",
              "      <td>20170715</td>\n",
              "      <td>112000.0</td>\n",
              "    </tr>\n",
              "    <tr>\n",
              "      <th>2</th>\n",
              "      <td>None</td>\n",
              "      <td>118</td>\n",
              "      <td>38fe809add3b4fcf9315a9694bb96ff5</td>\n",
              "      <td>20180712</td>\n",
              "      <td>NaN</td>\n",
              "    </tr>\n",
              "    <tr>\n",
              "      <th>3</th>\n",
              "      <td>F</td>\n",
              "      <td>75</td>\n",
              "      <td>78afa995795e4d85b5d9ceeca43f5fef</td>\n",
              "      <td>20170509</td>\n",
              "      <td>100000.0</td>\n",
              "    </tr>\n",
              "    <tr>\n",
              "      <th>4</th>\n",
              "      <td>None</td>\n",
              "      <td>118</td>\n",
              "      <td>a03223e636434f42ac4c3df47e8bac43</td>\n",
              "      <td>20170804</td>\n",
              "      <td>NaN</td>\n",
              "    </tr>\n",
              "  </tbody>\n",
              "</table>\n",
              "</div>"
            ],
            "text/plain": [
              "  gender  age                                id  became_member_on    income\n",
              "0   None  118  68be06ca386d4c31939f3a4f0e3dd783          20170212       NaN\n",
              "1      F   55  0610b486422d4921ae7d2bf64640c50b          20170715  112000.0\n",
              "2   None  118  38fe809add3b4fcf9315a9694bb96ff5          20180712       NaN\n",
              "3      F   75  78afa995795e4d85b5d9ceeca43f5fef          20170509  100000.0\n",
              "4   None  118  a03223e636434f42ac4c3df47e8bac43          20170804       NaN"
            ]
          },
          "metadata": {
            "tags": []
          }
        },
        {
          "output_type": "display_data",
          "data": {
            "text/plain": [
              "(17000, 5)"
            ]
          },
          "metadata": {
            "tags": []
          }
        },
        {
          "output_type": "display_data",
          "data": {
            "text/plain": [
              "gender               object\n",
              "age                   int64\n",
              "id                   object\n",
              "became_member_on      int64\n",
              "income              float64\n",
              "dtype: object"
            ]
          },
          "metadata": {
            "tags": []
          }
        },
        {
          "output_type": "display_data",
          "data": {
            "text/plain": [
              "gender              2175\n",
              "age                    0\n",
              "id                     0\n",
              "became_member_on       0\n",
              "income              2175\n",
              "dtype: int64"
            ]
          },
          "metadata": {
            "tags": []
          }
        },
        {
          "output_type": "display_data",
          "data": {
            "text/html": [
              "<div>\n",
              "<style scoped>\n",
              "    .dataframe tbody tr th:only-of-type {\n",
              "        vertical-align: middle;\n",
              "    }\n",
              "\n",
              "    .dataframe tbody tr th {\n",
              "        vertical-align: top;\n",
              "    }\n",
              "\n",
              "    .dataframe thead th {\n",
              "        text-align: right;\n",
              "    }\n",
              "</style>\n",
              "<table border=\"1\" class=\"dataframe\">\n",
              "  <thead>\n",
              "    <tr style=\"text-align: right;\">\n",
              "      <th></th>\n",
              "      <th>age</th>\n",
              "      <th>became_member_on</th>\n",
              "      <th>income</th>\n",
              "    </tr>\n",
              "  </thead>\n",
              "  <tbody>\n",
              "    <tr>\n",
              "      <th>count</th>\n",
              "      <td>17000.000000</td>\n",
              "      <td>1.700000e+04</td>\n",
              "      <td>14825.000000</td>\n",
              "    </tr>\n",
              "    <tr>\n",
              "      <th>mean</th>\n",
              "      <td>62.531412</td>\n",
              "      <td>2.016703e+07</td>\n",
              "      <td>65404.991568</td>\n",
              "    </tr>\n",
              "    <tr>\n",
              "      <th>std</th>\n",
              "      <td>26.738580</td>\n",
              "      <td>1.167750e+04</td>\n",
              "      <td>21598.299410</td>\n",
              "    </tr>\n",
              "    <tr>\n",
              "      <th>min</th>\n",
              "      <td>18.000000</td>\n",
              "      <td>2.013073e+07</td>\n",
              "      <td>30000.000000</td>\n",
              "    </tr>\n",
              "    <tr>\n",
              "      <th>25%</th>\n",
              "      <td>45.000000</td>\n",
              "      <td>2.016053e+07</td>\n",
              "      <td>49000.000000</td>\n",
              "    </tr>\n",
              "    <tr>\n",
              "      <th>50%</th>\n",
              "      <td>58.000000</td>\n",
              "      <td>2.017080e+07</td>\n",
              "      <td>64000.000000</td>\n",
              "    </tr>\n",
              "    <tr>\n",
              "      <th>75%</th>\n",
              "      <td>73.000000</td>\n",
              "      <td>2.017123e+07</td>\n",
              "      <td>80000.000000</td>\n",
              "    </tr>\n",
              "    <tr>\n",
              "      <th>max</th>\n",
              "      <td>118.000000</td>\n",
              "      <td>2.018073e+07</td>\n",
              "      <td>120000.000000</td>\n",
              "    </tr>\n",
              "  </tbody>\n",
              "</table>\n",
              "</div>"
            ],
            "text/plain": [
              "                age  became_member_on         income\n",
              "count  17000.000000      1.700000e+04   14825.000000\n",
              "mean      62.531412      2.016703e+07   65404.991568\n",
              "std       26.738580      1.167750e+04   21598.299410\n",
              "min       18.000000      2.013073e+07   30000.000000\n",
              "25%       45.000000      2.016053e+07   49000.000000\n",
              "50%       58.000000      2.017080e+07   64000.000000\n",
              "75%       73.000000      2.017123e+07   80000.000000\n",
              "max      118.000000      2.018073e+07  120000.000000"
            ]
          },
          "metadata": {
            "tags": []
          }
        },
        {
          "output_type": "stream",
          "text": [
            "-------------------------------\n"
          ],
          "name": "stdout"
        },
        {
          "output_type": "display_data",
          "data": {
            "text/plain": [
              "None"
            ]
          },
          "metadata": {
            "tags": []
          }
        }
      ]
    },
    {
      "cell_type": "code",
      "metadata": {
        "colab": {
          "base_uri": "https://localhost:8080/",
          "height": 398
        },
        "id": "CBfBE0DH0smI",
        "outputId": "dcf98d97-407c-4713-c551-e1e08ccaf0cd"
      },
      "source": [
        "import seaborn as sns\r\n",
        "\r\n",
        "sns.set(style='whitegrid', palette=\"deep\", font_scale=1.1, rc={\"figure.figsize\": [8, 5]})\r\n",
        "sns.distplot(\r\n",
        "    profile['income'], norm_hist=False, kde=False, bins=20, hist_kws={\"alpha\": 1}\r\n",
        ").set(xlabel='Income', ylabel='Count');"
      ],
      "execution_count": null,
      "outputs": [
        {
          "output_type": "stream",
          "text": [
            "/usr/local/lib/python3.7/dist-packages/seaborn/distributions.py:2557: FutureWarning: `distplot` is a deprecated function and will be removed in a future version. Please adapt your code to use either `displot` (a figure-level function with similar flexibility) or `histplot` (an axes-level function for histograms).\n",
            "  warnings.warn(msg, FutureWarning)\n"
          ],
          "name": "stderr"
        },
        {
          "output_type": "display_data",
          "data": {
            "image/png": "[encoded data removed]",
            "text/plain": [
              "<Figure size 576x360 with 1 Axes>"
            ]
          },
          "metadata": {
            "tags": []
          }
        }
      ]
    },
    {
      "cell_type": "code",
      "metadata": {
        "colab": {
          "base_uri": "https://localhost:8080/",
          "height": 398
        },
        "id": "t-tQZGn4zvei",
        "outputId": "c28f371d-944d-4080-f6d3-c0e98b948c58"
      },
      "source": [
        "sns.set(style='whitegrid', palette=\"deep\", font_scale=1.1, rc={\"figure.figsize\": [8, 5]})\r\n",
        "sns.distplot(\r\n",
        "    profile['age'], norm_hist=False, kde=False, bins=20, hist_kws={\"alpha\": 1}\r\n",
        ").set(xlabel='age', ylabel='Count');"
      ],
      "execution_count": null,
      "outputs": [
        {
          "output_type": "stream",
          "text": [
            "/usr/local/lib/python3.7/dist-packages/seaborn/distributions.py:2557: FutureWarning: `distplot` is a deprecated function and will be removed in a future version. Please adapt your code to use either `displot` (a figure-level function with similar flexibility) or `histplot` (an axes-level function for histograms).\n",
            "  warnings.warn(msg, FutureWarning)\n"
          ],
          "name": "stderr"
        },
        {
          "output_type": "display_data",
          "data": {
            "image/png": "[encoded data removed]",
            "text/plain": [
              "<Figure size 576x360 with 1 Axes>"
            ]
          },
          "metadata": {
            "tags": []
          }
        }
      ]
    },
    {
      "cell_type": "code",
      "metadata": {
        "colab": {
          "base_uri": "https://localhost:8080/",
          "height": 360
        },
        "id": "sTqcb-LWzxlC",
        "outputId": "3fab4301-2c35-4baf-aa20-525091125991"
      },
      "source": [
        "sns.boxplot(x=profile['income'])\r\n",
        "#profile.boxplot(column=['income'])"
      ],
      "execution_count": null,
      "outputs": [
        {
          "output_type": "execute_result",
          "data": {
            "text/plain": [
              "<matplotlib.axes._subplots.AxesSubplot at 0x7f232ed41b50>"
            ]
          },
          "metadata": {
            "tags": []
          },
          "execution_count": 16
        },
        {
          "output_type": "display_data",
          "data": {
            "image/png": "[encoded data removed]",
            "text/plain": [
              "<Figure size 576x360 with 1 Axes>"
            ]
          },
          "metadata": {
            "tags": []
          }
        }
      ]
    },
    {
      "cell_type": "code",
      "metadata": {
        "colab": {
          "base_uri": "https://localhost:8080/",
          "height": 360
        },
        "id": "SBRjWuFP0jzD",
        "outputId": "22205d9a-82db-4a0e-d995-271ace6e523c"
      },
      "source": [
        "sns.boxplot(x=profile['age'])"
      ],
      "execution_count": null,
      "outputs": [
        {
          "output_type": "execute_result",
          "data": {
            "text/plain": [
              "<matplotlib.axes._subplots.AxesSubplot at 0x7f232ece5110>"
            ]
          },
          "metadata": {
            "tags": []
          },
          "execution_count": 17
        },
        {
          "output_type": "display_data",
          "data": {
            "image/png": "[encoded data removed]",
            "text/plain": [
              "<Figure size 576x360 with 1 Axes>"
            ]
          },
          "metadata": {
            "tags": []
          }
        }
      ]
    },
    {
      "cell_type": "code",
      "metadata": {
        "colab": {
          "base_uri": "https://localhost:8080/",
          "height": 198
        },
        "id": "otuvVEIs1zxb",
        "outputId": "3f7e12fd-46b8-4cca-81b6-cc2b86f509ab"
      },
      "source": [
        "from datetime import datetime, timedelta\r\n",
        "\r\n",
        "def days_from_today(date):\r\n",
        "        delta = datetime.today() - date\r\n",
        "        days = delta.days\r\n",
        "        return days\r\n",
        "\r\n",
        "profile['became_member_on'] = profile['became_member_on'].apply(lambda x: pd.to_datetime(str(x), format='%Y%m%d'))\r\n",
        "profile['days_as_member'] = profile['became_member_on'].apply(days_from_today)\r\n",
        "\r\n",
        "profile.head()"
      ],
      "execution_count": null,
      "outputs": [
        {
          "output_type": "execute_result",
          "data": {
            "text/html": [
              "<div>\n",
              "<style scoped>\n",
              "    .dataframe tbody tr th:only-of-type {\n",
              "        vertical-align: middle;\n",
              "    }\n",
              "\n",
              "    .dataframe tbody tr th {\n",
              "        vertical-align: top;\n",
              "    }\n",
              "\n",
              "    .dataframe thead th {\n",
              "        text-align: right;\n",
              "    }\n",
              "</style>\n",
              "<table border=\"1\" class=\"dataframe\">\n",
              "  <thead>\n",
              "    <tr style=\"text-align: right;\">\n",
              "      <th></th>\n",
              "      <th>gender</th>\n",
              "      <th>age</th>\n",
              "      <th>id</th>\n",
              "      <th>became_member_on</th>\n",
              "      <th>income</th>\n",
              "      <th>days_as_member</th>\n",
              "    </tr>\n",
              "  </thead>\n",
              "  <tbody>\n",
              "    <tr>\n",
              "      <th>0</th>\n",
              "      <td>None</td>\n",
              "      <td>118</td>\n",
              "      <td>68be06ca386d4c31939f3a4f0e3dd783</td>\n",
              "      <td>2017-02-12</td>\n",
              "      <td>NaN</td>\n",
              "      <td>1487</td>\n",
              "    </tr>\n",
              "    <tr>\n",
              "      <th>1</th>\n",
              "      <td>F</td>\n",
              "      <td>55</td>\n",
              "      <td>0610b486422d4921ae7d2bf64640c50b</td>\n",
              "      <td>2017-07-15</td>\n",
              "      <td>112000.0</td>\n",
              "      <td>1334</td>\n",
              "    </tr>\n",
              "    <tr>\n",
              "      <th>2</th>\n",
              "      <td>None</td>\n",
              "      <td>118</td>\n",
              "      <td>38fe809add3b4fcf9315a9694bb96ff5</td>\n",
              "      <td>2018-07-12</td>\n",
              "      <td>NaN</td>\n",
              "      <td>972</td>\n",
              "    </tr>\n",
              "    <tr>\n",
              "      <th>3</th>\n",
              "      <td>F</td>\n",
              "      <td>75</td>\n",
              "      <td>78afa995795e4d85b5d9ceeca43f5fef</td>\n",
              "      <td>2017-05-09</td>\n",
              "      <td>100000.0</td>\n",
              "      <td>1401</td>\n",
              "    </tr>\n",
              "    <tr>\n",
              "      <th>4</th>\n",
              "      <td>None</td>\n",
              "      <td>118</td>\n",
              "      <td>a03223e636434f42ac4c3df47e8bac43</td>\n",
              "      <td>2017-08-04</td>\n",
              "      <td>NaN</td>\n",
              "      <td>1314</td>\n",
              "    </tr>\n",
              "  </tbody>\n",
              "</table>\n",
              "</div>"
            ],
            "text/plain": [
              "  gender  age  ...    income days_as_member\n",
              "0   None  118  ...       NaN           1487\n",
              "1      F   55  ...  112000.0           1334\n",
              "2   None  118  ...       NaN            972\n",
              "3      F   75  ...  100000.0           1401\n",
              "4   None  118  ...       NaN           1314\n",
              "\n",
              "[5 rows x 6 columns]"
            ]
          },
          "metadata": {
            "tags": []
          },
          "execution_count": 18
        }
      ]
    },
    {
      "cell_type": "code",
      "metadata": {
        "colab": {
          "base_uri": "https://localhost:8080/",
          "height": 796
        },
        "id": "dVtPOCvk17AC",
        "outputId": "6dc64179-5785-4654-8a88-8850ed428051"
      },
      "source": [
        "display(explore_data(portfolio))"
      ],
      "execution_count": null,
      "outputs": [
        {
          "output_type": "stream",
          "text": [
            "\n"
          ],
          "name": "stdout"
        },
        {
          "output_type": "display_data",
          "data": {
            "text/html": [
              "<div>\n",
              "<style scoped>\n",
              "    .dataframe tbody tr th:only-of-type {\n",
              "        vertical-align: middle;\n",
              "    }\n",
              "\n",
              "    .dataframe tbody tr th {\n",
              "        vertical-align: top;\n",
              "    }\n",
              "\n",
              "    .dataframe thead th {\n",
              "        text-align: right;\n",
              "    }\n",
              "</style>\n",
              "<table border=\"1\" class=\"dataframe\">\n",
              "  <thead>\n",
              "    <tr style=\"text-align: right;\">\n",
              "      <th></th>\n",
              "      <th>reward</th>\n",
              "      <th>channels</th>\n",
              "      <th>difficulty</th>\n",
              "      <th>duration</th>\n",
              "      <th>offer_type</th>\n",
              "      <th>id</th>\n",
              "    </tr>\n",
              "  </thead>\n",
              "  <tbody>\n",
              "    <tr>\n",
              "      <th>0</th>\n",
              "      <td>10</td>\n",
              "      <td>[email, mobile, social]</td>\n",
              "      <td>10</td>\n",
              "      <td>7</td>\n",
              "      <td>bogo</td>\n",
              "      <td>ae264e3637204a6fb9bb56bc8210ddfd</td>\n",
              "    </tr>\n",
              "    <tr>\n",
              "      <th>1</th>\n",
              "      <td>10</td>\n",
              "      <td>[web, email, mobile, social]</td>\n",
              "      <td>10</td>\n",
              "      <td>5</td>\n",
              "      <td>bogo</td>\n",
              "      <td>4d5c57ea9a6940dd891ad53e9dbe8da0</td>\n",
              "    </tr>\n",
              "    <tr>\n",
              "      <th>2</th>\n",
              "      <td>0</td>\n",
              "      <td>[web, email, mobile]</td>\n",
              "      <td>0</td>\n",
              "      <td>4</td>\n",
              "      <td>informational</td>\n",
              "      <td>3f207df678b143eea3cee63160fa8bed</td>\n",
              "    </tr>\n",
              "    <tr>\n",
              "      <th>3</th>\n",
              "      <td>5</td>\n",
              "      <td>[web, email, mobile]</td>\n",
              "      <td>5</td>\n",
              "      <td>7</td>\n",
              "      <td>bogo</td>\n",
              "      <td>9b98b8c7a33c4b65b9aebfe6a799e6d9</td>\n",
              "    </tr>\n",
              "    <tr>\n",
              "      <th>4</th>\n",
              "      <td>5</td>\n",
              "      <td>[web, email]</td>\n",
              "      <td>20</td>\n",
              "      <td>10</td>\n",
              "      <td>discount</td>\n",
              "      <td>0b1e1539f2cc45b7b9fa7c272da2e1d7</td>\n",
              "    </tr>\n",
              "  </tbody>\n",
              "</table>\n",
              "</div>"
            ],
            "text/plain": [
              "   reward  ...                                id\n",
              "0      10  ...  ae264e3637204a6fb9bb56bc8210ddfd\n",
              "1      10  ...  4d5c57ea9a6940dd891ad53e9dbe8da0\n",
              "2       0  ...  3f207df678b143eea3cee63160fa8bed\n",
              "3       5  ...  9b98b8c7a33c4b65b9aebfe6a799e6d9\n",
              "4       5  ...  0b1e1539f2cc45b7b9fa7c272da2e1d7\n",
              "\n",
              "[5 rows x 6 columns]"
            ]
          },
          "metadata": {
            "tags": []
          }
        },
        {
          "output_type": "display_data",
          "data": {
            "text/plain": [
              "(10, 6)"
            ]
          },
          "metadata": {
            "tags": []
          }
        },
        {
          "output_type": "display_data",
          "data": {
            "text/plain": [
              "reward         int64\n",
              "channels      object\n",
              "difficulty     int64\n",
              "duration       int64\n",
              "offer_type    object\n",
              "id            object\n",
              "dtype: object"
            ]
          },
          "metadata": {
            "tags": []
          }
        },
        {
          "output_type": "display_data",
          "data": {
            "text/plain": [
              "reward        0\n",
              "channels      0\n",
              "difficulty    0\n",
              "duration      0\n",
              "offer_type    0\n",
              "id            0\n",
              "dtype: int64"
            ]
          },
          "metadata": {
            "tags": []
          }
        },
        {
          "output_type": "display_data",
          "data": {
            "text/html": [
              "<div>\n",
              "<style scoped>\n",
              "    .dataframe tbody tr th:only-of-type {\n",
              "        vertical-align: middle;\n",
              "    }\n",
              "\n",
              "    .dataframe tbody tr th {\n",
              "        vertical-align: top;\n",
              "    }\n",
              "\n",
              "    .dataframe thead th {\n",
              "        text-align: right;\n",
              "    }\n",
              "</style>\n",
              "<table border=\"1\" class=\"dataframe\">\n",
              "  <thead>\n",
              "    <tr style=\"text-align: right;\">\n",
              "      <th></th>\n",
              "      <th>reward</th>\n",
              "      <th>difficulty</th>\n",
              "      <th>duration</th>\n",
              "    </tr>\n",
              "  </thead>\n",
              "  <tbody>\n",
              "    <tr>\n",
              "      <th>count</th>\n",
              "      <td>10.000000</td>\n",
              "      <td>10.000000</td>\n",
              "      <td>10.000000</td>\n",
              "    </tr>\n",
              "    <tr>\n",
              "      <th>mean</th>\n",
              "      <td>4.200000</td>\n",
              "      <td>7.700000</td>\n",
              "      <td>6.500000</td>\n",
              "    </tr>\n",
              "    <tr>\n",
              "      <th>std</th>\n",
              "      <td>3.583915</td>\n",
              "      <td>5.831905</td>\n",
              "      <td>2.321398</td>\n",
              "    </tr>\n",
              "    <tr>\n",
              "      <th>min</th>\n",
              "      <td>0.000000</td>\n",
              "      <td>0.000000</td>\n",
              "      <td>3.000000</td>\n",
              "    </tr>\n",
              "    <tr>\n",
              "      <th>25%</th>\n",
              "      <td>2.000000</td>\n",
              "      <td>5.000000</td>\n",
              "      <td>5.000000</td>\n",
              "    </tr>\n",
              "    <tr>\n",
              "      <th>50%</th>\n",
              "      <td>4.000000</td>\n",
              "      <td>8.500000</td>\n",
              "      <td>7.000000</td>\n",
              "    </tr>\n",
              "    <tr>\n",
              "      <th>75%</th>\n",
              "      <td>5.000000</td>\n",
              "      <td>10.000000</td>\n",
              "      <td>7.000000</td>\n",
              "    </tr>\n",
              "    <tr>\n",
              "      <th>max</th>\n",
              "      <td>10.000000</td>\n",
              "      <td>20.000000</td>\n",
              "      <td>10.000000</td>\n",
              "    </tr>\n",
              "  </tbody>\n",
              "</table>\n",
              "</div>"
            ],
            "text/plain": [
              "          reward  difficulty   duration\n",
              "count  10.000000   10.000000  10.000000\n",
              "mean    4.200000    7.700000   6.500000\n",
              "std     3.583915    5.831905   2.321398\n",
              "min     0.000000    0.000000   3.000000\n",
              "25%     2.000000    5.000000   5.000000\n",
              "50%     4.000000    8.500000   7.000000\n",
              "75%     5.000000   10.000000   7.000000\n",
              "max    10.000000   20.000000  10.000000"
            ]
          },
          "metadata": {
            "tags": []
          }
        },
        {
          "output_type": "stream",
          "text": [
            "-------------------------------\n"
          ],
          "name": "stdout"
        },
        {
          "output_type": "display_data",
          "data": {
            "text/plain": [
              "None"
            ]
          },
          "metadata": {
            "tags": []
          }
        }
      ]
    },
    {
      "cell_type": "code",
      "metadata": {
        "id": "Zn-DgKIz97qc"
      },
      "source": [
        "portfolio = portfolio.rename(columns={'id': 'offer_id'})\r\n",
        "\r\n",
        "\r\n",
        "# fill null values in order to avoid error for when splitting the list into individual column values per channel        \r\n",
        "portfolio.channels = portfolio.channels.fillna('None')\r\n",
        "\r\n",
        "for element in ['web', 'email', 'mobile', 'social']:\r\n",
        "    portfolio[element] = portfolio.channels.apply(lambda x: x.count(element))\r\n",
        "\r\n",
        "portfolio = portfolio.drop(columns=['channels'], axis=1)"
      ],
      "execution_count": null,
      "outputs": []
    },
    {
      "cell_type": "code",
      "metadata": {
        "colab": {
          "base_uri": "https://localhost:8080/",
          "height": 198
        },
        "id": "sOeVTYgH995D",
        "outputId": "b6edd44c-2a73-4d8d-fe10-0babe3c847ec"
      },
      "source": [
        "portfolio.head()"
      ],
      "execution_count": null,
      "outputs": [
        {
          "output_type": "execute_result",
          "data": {
            "text/html": [
              "<div>\n",
              "<style scoped>\n",
              "    .dataframe tbody tr th:only-of-type {\n",
              "        vertical-align: middle;\n",
              "    }\n",
              "\n",
              "    .dataframe tbody tr th {\n",
              "        vertical-align: top;\n",
              "    }\n",
              "\n",
              "    .dataframe thead th {\n",
              "        text-align: right;\n",
              "    }\n",
              "</style>\n",
              "<table border=\"1\" class=\"dataframe\">\n",
              "  <thead>\n",
              "    <tr style=\"text-align: right;\">\n",
              "      <th></th>\n",
              "      <th>reward</th>\n",
              "      <th>difficulty</th>\n",
              "      <th>duration</th>\n",
              "      <th>offer_type</th>\n",
              "      <th>offer_id</th>\n",
              "      <th>web</th>\n",
              "      <th>email</th>\n",
              "      <th>mobile</th>\n",
              "      <th>social</th>\n",
              "    </tr>\n",
              "  </thead>\n",
              "  <tbody>\n",
              "    <tr>\n",
              "      <th>0</th>\n",
              "      <td>10</td>\n",
              "      <td>10</td>\n",
              "      <td>7</td>\n",
              "      <td>bogo</td>\n",
              "      <td>ae264e3637204a6fb9bb56bc8210ddfd</td>\n",
              "      <td>0</td>\n",
              "      <td>1</td>\n",
              "      <td>1</td>\n",
              "      <td>1</td>\n",
              "    </tr>\n",
              "    <tr>\n",
              "      <th>1</th>\n",
              "      <td>10</td>\n",
              "      <td>10</td>\n",
              "      <td>5</td>\n",
              "      <td>bogo</td>\n",
              "      <td>4d5c57ea9a6940dd891ad53e9dbe8da0</td>\n",
              "      <td>1</td>\n",
              "      <td>1</td>\n",
              "      <td>1</td>\n",
              "      <td>1</td>\n",
              "    </tr>\n",
              "    <tr>\n",
              "      <th>2</th>\n",
              "      <td>0</td>\n",
              "      <td>0</td>\n",
              "      <td>4</td>\n",
              "      <td>informational</td>\n",
              "      <td>3f207df678b143eea3cee63160fa8bed</td>\n",
              "      <td>1</td>\n",
              "      <td>1</td>\n",
              "      <td>1</td>\n",
              "      <td>0</td>\n",
              "    </tr>\n",
              "    <tr>\n",
              "      <th>3</th>\n",
              "      <td>5</td>\n",
              "      <td>5</td>\n",
              "      <td>7</td>\n",
              "      <td>bogo</td>\n",
              "      <td>9b98b8c7a33c4b65b9aebfe6a799e6d9</td>\n",
              "      <td>1</td>\n",
              "      <td>1</td>\n",
              "      <td>1</td>\n",
              "      <td>0</td>\n",
              "    </tr>\n",
              "    <tr>\n",
              "      <th>4</th>\n",
              "      <td>5</td>\n",
              "      <td>20</td>\n",
              "      <td>10</td>\n",
              "      <td>discount</td>\n",
              "      <td>0b1e1539f2cc45b7b9fa7c272da2e1d7</td>\n",
              "      <td>1</td>\n",
              "      <td>1</td>\n",
              "      <td>0</td>\n",
              "      <td>0</td>\n",
              "    </tr>\n",
              "  </tbody>\n",
              "</table>\n",
              "</div>"
            ],
            "text/plain": [
              "   reward  difficulty  duration     offer_type  ... web  email  mobile  social\n",
              "0      10          10         7           bogo  ...   0      1       1       1\n",
              "1      10          10         5           bogo  ...   1      1       1       1\n",
              "2       0           0         4  informational  ...   1      1       1       0\n",
              "3       5           5         7           bogo  ...   1      1       1       0\n",
              "4       5          20        10       discount  ...   1      1       0       0\n",
              "\n",
              "[5 rows x 9 columns]"
            ]
          },
          "metadata": {
            "tags": []
          },
          "execution_count": 21
        }
      ]
    },
    {
      "cell_type": "code",
      "metadata": {
        "colab": {
          "base_uri": "https://localhost:8080/",
          "height": 547
        },
        "id": "76LYn9YQ9_5K",
        "outputId": "d3f0334f-82af-4b71-f1b8-eb0027c2c84f"
      },
      "source": [
        "sns.pairplot(portfolio[['reward', 'difficulty', 'duration']]);"
      ],
      "execution_count": null,
      "outputs": [
        {
          "output_type": "display_data",
          "data": {
            "image/png": "[encoded data removed]",
            "text/plain": [
              "<Figure size 540x540 with 12 Axes>"
            ]
          },
          "metadata": {
            "tags": []
          }
        }
      ]
    },
    {
      "cell_type": "code",
      "metadata": {
        "colab": {
          "base_uri": "https://localhost:8080/",
          "height": 270
        },
        "id": "1Uqf8cst-Bex",
        "outputId": "438be2da-6426-459b-baa5-10a4eee7432e"
      },
      "source": [
        "df = transcript.merge(profile, on='id')\r\n",
        "\r\n",
        "df = df.merge(portfolio, on='offer_id', how='left')\r\n",
        "    \r\n",
        "df.head()"
      ],
      "execution_count": null,
      "outputs": [
        {
          "output_type": "execute_result",
          "data": {
            "text/html": [
              "<div>\n",
              "<style scoped>\n",
              "    .dataframe tbody tr th:only-of-type {\n",
              "        vertical-align: middle;\n",
              "    }\n",
              "\n",
              "    .dataframe tbody tr th {\n",
              "        vertical-align: top;\n",
              "    }\n",
              "\n",
              "    .dataframe thead th {\n",
              "        text-align: right;\n",
              "    }\n",
              "</style>\n",
              "<table border=\"1\" class=\"dataframe\">\n",
              "  <thead>\n",
              "    <tr style=\"text-align: right;\">\n",
              "      <th></th>\n",
              "      <th>id</th>\n",
              "      <th>event</th>\n",
              "      <th>time</th>\n",
              "      <th>amount</th>\n",
              "      <th>offer_id</th>\n",
              "      <th>gender</th>\n",
              "      <th>age</th>\n",
              "      <th>became_member_on</th>\n",
              "      <th>income</th>\n",
              "      <th>days_as_member</th>\n",
              "      <th>reward</th>\n",
              "      <th>difficulty</th>\n",
              "      <th>duration</th>\n",
              "      <th>offer_type</th>\n",
              "      <th>web</th>\n",
              "      <th>email</th>\n",
              "      <th>mobile</th>\n",
              "      <th>social</th>\n",
              "    </tr>\n",
              "  </thead>\n",
              "  <tbody>\n",
              "    <tr>\n",
              "      <th>0</th>\n",
              "      <td>78afa995795e4d85b5d9ceeca43f5fef</td>\n",
              "      <td>offer received</td>\n",
              "      <td>0</td>\n",
              "      <td>NaN</td>\n",
              "      <td>9b98b8c7a33c4b65b9aebfe6a799e6d9</td>\n",
              "      <td>F</td>\n",
              "      <td>75</td>\n",
              "      <td>2017-05-09</td>\n",
              "      <td>100000.0</td>\n",
              "      <td>1401</td>\n",
              "      <td>5.0</td>\n",
              "      <td>5.0</td>\n",
              "      <td>7.0</td>\n",
              "      <td>bogo</td>\n",
              "      <td>1.0</td>\n",
              "      <td>1.0</td>\n",
              "      <td>1.0</td>\n",
              "      <td>0.0</td>\n",
              "    </tr>\n",
              "    <tr>\n",
              "      <th>1</th>\n",
              "      <td>78afa995795e4d85b5d9ceeca43f5fef</td>\n",
              "      <td>offer viewed</td>\n",
              "      <td>6</td>\n",
              "      <td>NaN</td>\n",
              "      <td>9b98b8c7a33c4b65b9aebfe6a799e6d9</td>\n",
              "      <td>F</td>\n",
              "      <td>75</td>\n",
              "      <td>2017-05-09</td>\n",
              "      <td>100000.0</td>\n",
              "      <td>1401</td>\n",
              "      <td>5.0</td>\n",
              "      <td>5.0</td>\n",
              "      <td>7.0</td>\n",
              "      <td>bogo</td>\n",
              "      <td>1.0</td>\n",
              "      <td>1.0</td>\n",
              "      <td>1.0</td>\n",
              "      <td>0.0</td>\n",
              "    </tr>\n",
              "    <tr>\n",
              "      <th>2</th>\n",
              "      <td>78afa995795e4d85b5d9ceeca43f5fef</td>\n",
              "      <td>transaction</td>\n",
              "      <td>132</td>\n",
              "      <td>19.89</td>\n",
              "      <td>NaN</td>\n",
              "      <td>F</td>\n",
              "      <td>75</td>\n",
              "      <td>2017-05-09</td>\n",
              "      <td>100000.0</td>\n",
              "      <td>1401</td>\n",
              "      <td>NaN</td>\n",
              "      <td>NaN</td>\n",
              "      <td>NaN</td>\n",
              "      <td>NaN</td>\n",
              "      <td>NaN</td>\n",
              "      <td>NaN</td>\n",
              "      <td>NaN</td>\n",
              "      <td>NaN</td>\n",
              "    </tr>\n",
              "    <tr>\n",
              "      <th>3</th>\n",
              "      <td>78afa995795e4d85b5d9ceeca43f5fef</td>\n",
              "      <td>offer completed</td>\n",
              "      <td>132</td>\n",
              "      <td>NaN</td>\n",
              "      <td>9b98b8c7a33c4b65b9aebfe6a799e6d9</td>\n",
              "      <td>F</td>\n",
              "      <td>75</td>\n",
              "      <td>2017-05-09</td>\n",
              "      <td>100000.0</td>\n",
              "      <td>1401</td>\n",
              "      <td>5.0</td>\n",
              "      <td>5.0</td>\n",
              "      <td>7.0</td>\n",
              "      <td>bogo</td>\n",
              "      <td>1.0</td>\n",
              "      <td>1.0</td>\n",
              "      <td>1.0</td>\n",
              "      <td>0.0</td>\n",
              "    </tr>\n",
              "    <tr>\n",
              "      <th>4</th>\n",
              "      <td>78afa995795e4d85b5d9ceeca43f5fef</td>\n",
              "      <td>transaction</td>\n",
              "      <td>144</td>\n",
              "      <td>17.78</td>\n",
              "      <td>NaN</td>\n",
              "      <td>F</td>\n",
              "      <td>75</td>\n",
              "      <td>2017-05-09</td>\n",
              "      <td>100000.0</td>\n",
              "      <td>1401</td>\n",
              "      <td>NaN</td>\n",
              "      <td>NaN</td>\n",
              "      <td>NaN</td>\n",
              "      <td>NaN</td>\n",
              "      <td>NaN</td>\n",
              "      <td>NaN</td>\n",
              "      <td>NaN</td>\n",
              "      <td>NaN</td>\n",
              "    </tr>\n",
              "  </tbody>\n",
              "</table>\n",
              "</div>"
            ],
            "text/plain": [
              "                                 id            event  ...  mobile  social\n",
              "0  78afa995795e4d85b5d9ceeca43f5fef   offer received  ...     1.0     0.0\n",
              "1  78afa995795e4d85b5d9ceeca43f5fef     offer viewed  ...     1.0     0.0\n",
              "2  78afa995795e4d85b5d9ceeca43f5fef      transaction  ...     NaN     NaN\n",
              "3  78afa995795e4d85b5d9ceeca43f5fef  offer completed  ...     1.0     0.0\n",
              "4  78afa995795e4d85b5d9ceeca43f5fef      transaction  ...     NaN     NaN\n",
              "\n",
              "[5 rows x 18 columns]"
            ]
          },
          "metadata": {
            "tags": []
          },
          "execution_count": 23
        }
      ]
    },
    {
      "cell_type": "code",
      "metadata": {
        "id": "l8Fra_86_3I-"
      },
      "source": [
        "  # df = pd.read_csv(data_filepath, parse_dates = ['became_member_on'])\r\n",
        "  # df = df.loc[:, ~df.columns.str.contains('^Unnamed')]\r\n",
        "    \r\n",
        "  # df = df.loc[df.event == 'offer received']"
      ],
      "execution_count": null,
      "outputs": []
    },
    {
      "cell_type": "code",
      "metadata": {
        "colab": {
          "base_uri": "https://localhost:8080/"
        },
        "id": "7XAB90R4-Dkp",
        "outputId": "085b2412-896b-4bcb-c3d4-274df56b04e3"
      },
      "source": [
        "id_list = df.id.unique().tolist()[:3]\r\n",
        "\r\n",
        "for id_ in id_list:\r\n",
        "    id_df = df.loc[df['id'].isin([id_])]\r\n",
        "    id_df = id_df[['event', 'offer_type', 'id', 'time', 'duration', \"offer_id\"]].sort_values(by=['id', 'time'])\r\n",
        "    \r\n",
        "    id_received_df = id_df.loc[id_df['event'] == 'offer received'].reset_index()\r\n",
        "    \r\n",
        "    print(\"id: {}\".format(id_))\r\n",
        "    \r\n",
        "    for i in range(id_received_df.shape[0]):\r\n",
        "        offer_id = id_received_df.offer_id[i]\r\n",
        "        offer_type = id_received_df.offer_type[i]\r\n",
        "        time = id_received_df.time[i]\r\n",
        "        duration = id_received_df.duration[i]\r\n",
        "        max_time = time + duration\r\n",
        "        timeframe = id_df.loc[(id_df['time'] >= time) & (id_df['time'] <= max_time) & (id_df['offer_id'] == offer_id)].reset_index()\r\n",
        "        if timeframe.event.unique().tolist().count('offer viewed') > 0:\r\n",
        "            print(\"YES (treatment)- {} offer received at {} was viewed\".format(offer_type, time))\r\n",
        "        else:\r\n",
        "            print(\"NO (treatment) - {} offer received at {} was not reedemed\".format(offer_type, time))\r\n",
        "        if timeframe.event.unique().tolist().count('transaction') > 0:\r\n",
        "            print(\"YES (outcome)- a purchase occured within the duration of {} offer received at {}\".format(offer_type, time))\r\n",
        "        else:\r\n",
        "            print(\"YES (outcome)- a purchase occured within the duration of {} offer received at {}\".format(offer_type, time))\r\n",
        "        \r\n",
        "    print(\"----------\\n\")"
      ],
      "execution_count": null,
      "outputs": [
        {
          "output_type": "stream",
          "text": [
            "id: 78afa995795e4d85b5d9ceeca43f5fef\n",
            "YES (treatment)- bogo offer received at 0 was viewed\n",
            "YES (outcome)- a purchase occured within the duration of bogo offer received at 0\n",
            "NO (treatment) - informational offer received at 168 was not reedemed\n",
            "YES (outcome)- a purchase occured within the duration of informational offer received at 168\n",
            "YES (treatment)- bogo offer received at 408 was viewed\n",
            "YES (outcome)- a purchase occured within the duration of bogo offer received at 408\n",
            "NO (treatment) - bogo offer received at 504 was not reedemed\n",
            "YES (outcome)- a purchase occured within the duration of bogo offer received at 504\n",
            "----------\n",
            "\n",
            "id: a03223e636434f42ac4c3df47e8bac43\n",
            "YES (treatment)- discount offer received at 0 was viewed\n",
            "YES (outcome)- a purchase occured within the duration of discount offer received at 0\n",
            "YES (treatment)- informational offer received at 336 was viewed\n",
            "YES (outcome)- a purchase occured within the duration of informational offer received at 336\n",
            "NO (treatment) - informational offer received at 408 was not reedemed\n",
            "YES (outcome)- a purchase occured within the duration of informational offer received at 408\n",
            "NO (treatment) - discount offer received at 504 was not reedemed\n",
            "YES (outcome)- a purchase occured within the duration of discount offer received at 504\n",
            "NO (treatment) - discount offer received at 576 was not reedemed\n",
            "YES (outcome)- a purchase occured within the duration of discount offer received at 576\n",
            "----------\n",
            "\n",
            "id: e2127556f4f64592b11af22de27a7932\n",
            "NO (treatment) - discount offer received at 0 was not reedemed\n",
            "YES (outcome)- a purchase occured within the duration of discount offer received at 0\n",
            "NO (treatment) - informational offer received at 336 was not reedemed\n",
            "YES (outcome)- a purchase occured within the duration of informational offer received at 336\n",
            "NO (treatment) - bogo offer received at 408 was not reedemed\n",
            "YES (outcome)- a purchase occured within the duration of bogo offer received at 408\n",
            "NO (treatment) - discount offer received at 504 was not reedemed\n",
            "YES (outcome)- a purchase occured within the duration of discount offer received at 504\n",
            "----------\n",
            "\n"
          ],
          "name": "stdout"
        }
      ]
    },
    {
      "cell_type": "code",
      "metadata": {
        "colab": {
          "base_uri": "https://localhost:8080/",
          "height": 78
        },
        "id": "bpmi043g-HaS",
        "outputId": "1d7e168d-a19c-4968-819d-d183390de16a"
      },
      "source": [
        "timeframe"
      ],
      "execution_count": null,
      "outputs": [
        {
          "output_type": "execute_result",
          "data": {
            "text/html": [
              "<div>\n",
              "<style scoped>\n",
              "    .dataframe tbody tr th:only-of-type {\n",
              "        vertical-align: middle;\n",
              "    }\n",
              "\n",
              "    .dataframe tbody tr th {\n",
              "        vertical-align: top;\n",
              "    }\n",
              "\n",
              "    .dataframe thead th {\n",
              "        text-align: right;\n",
              "    }\n",
              "</style>\n",
              "<table border=\"1\" class=\"dataframe\">\n",
              "  <thead>\n",
              "    <tr style=\"text-align: right;\">\n",
              "      <th></th>\n",
              "      <th>index</th>\n",
              "      <th>event</th>\n",
              "      <th>offer_type</th>\n",
              "      <th>id</th>\n",
              "      <th>time</th>\n",
              "      <th>duration</th>\n",
              "      <th>offer_id</th>\n",
              "    </tr>\n",
              "  </thead>\n",
              "  <tbody>\n",
              "    <tr>\n",
              "      <th>0</th>\n",
              "      <td>36</td>\n",
              "      <td>offer received</td>\n",
              "      <td>discount</td>\n",
              "      <td>e2127556f4f64592b11af22de27a7932</td>\n",
              "      <td>504</td>\n",
              "      <td>10.0</td>\n",
              "      <td>fafdcd668e3743c1bb461111dcafc2a4</td>\n",
              "    </tr>\n",
              "  </tbody>\n",
              "</table>\n",
              "</div>"
            ],
            "text/plain": [
              "   index           event  ... duration                          offer_id\n",
              "0     36  offer received  ...     10.0  fafdcd668e3743c1bb461111dcafc2a4\n",
              "\n",
              "[1 rows x 7 columns]"
            ]
          },
          "metadata": {
            "tags": []
          },
          "execution_count": 27
        }
      ]
    },
    {
      "cell_type": "code",
      "metadata": {
        "colab": {
          "base_uri": "https://localhost:8080/",
          "height": 305
        },
        "id": "zVgn6lus-MLJ",
        "outputId": "d7ecdac9-e225-4383-a37d-349239a8f21b"
      },
      "source": [
        "link = 'https://raw.githubusercontent.com/taylorplumer/starbucks-uplift/master/data/processed_data_11202019.csv'\r\n",
        "def load_data(data_filepath):\r\n",
        "    \"\"\"\r\n",
        "    Load data from flat file \r\n",
        "    Args:\r\n",
        "        data_filepath: path where flat csv file is located\r\n",
        "    Returns:\r\n",
        "        df: dataframe of flat file\r\n",
        "    \"\"\"\r\n",
        "    df = pd.read_csv(data_filepath, parse_dates = ['became_member_on'])\r\n",
        "    df = df.loc[:, ~df.columns.str.contains('^Unnamed')]\r\n",
        "    df = df.loc[df.event == 'offer received']\r\n",
        "    return df\r\n",
        "df = load_data(link)\r\n",
        "df.head()"
      ],
      "execution_count": null,
      "outputs": [
        {
          "output_type": "execute_result",
          "data": {
            "text/html": [
              "<div>\n",
              "<style scoped>\n",
              "    .dataframe tbody tr th:only-of-type {\n",
              "        vertical-align: middle;\n",
              "    }\n",
              "\n",
              "    .dataframe tbody tr th {\n",
              "        vertical-align: top;\n",
              "    }\n",
              "\n",
              "    .dataframe thead th {\n",
              "        text-align: right;\n",
              "    }\n",
              "</style>\n",
              "<table border=\"1\" class=\"dataframe\">\n",
              "  <thead>\n",
              "    <tr style=\"text-align: right;\">\n",
              "      <th></th>\n",
              "      <th>event</th>\n",
              "      <th>id</th>\n",
              "      <th>time</th>\n",
              "      <th>age</th>\n",
              "      <th>became_member_on</th>\n",
              "      <th>gender</th>\n",
              "      <th>income</th>\n",
              "      <th>amount</th>\n",
              "      <th>offer_id</th>\n",
              "      <th>reward</th>\n",
              "      <th>days_as_member</th>\n",
              "      <th>difficulty</th>\n",
              "      <th>duration</th>\n",
              "      <th>offer_type</th>\n",
              "      <th>web</th>\n",
              "      <th>email</th>\n",
              "      <th>mobile</th>\n",
              "      <th>social</th>\n",
              "      <th>max_time</th>\n",
              "      <th>outcome</th>\n",
              "      <th>treatment</th>\n",
              "    </tr>\n",
              "  </thead>\n",
              "  <tbody>\n",
              "    <tr>\n",
              "      <th>0</th>\n",
              "      <td>offer received</td>\n",
              "      <td>78afa995795e4d85b5d9ceeca43f5fef</td>\n",
              "      <td>0</td>\n",
              "      <td>75</td>\n",
              "      <td>2017-05-09</td>\n",
              "      <td>F</td>\n",
              "      <td>100000.0</td>\n",
              "      <td>NaN</td>\n",
              "      <td>9b98b8c7a33c4b65b9aebfe6a799e6d9</td>\n",
              "      <td>NaN</td>\n",
              "      <td>923</td>\n",
              "      <td>5.0</td>\n",
              "      <td>7.0</td>\n",
              "      <td>bogo</td>\n",
              "      <td>1</td>\n",
              "      <td>1</td>\n",
              "      <td>1</td>\n",
              "      <td>0</td>\n",
              "      <td>7.0</td>\n",
              "      <td>0.0</td>\n",
              "      <td>1.0</td>\n",
              "    </tr>\n",
              "    <tr>\n",
              "      <th>5</th>\n",
              "      <td>offer received</td>\n",
              "      <td>78afa995795e4d85b5d9ceeca43f5fef</td>\n",
              "      <td>168</td>\n",
              "      <td>75</td>\n",
              "      <td>2017-05-09</td>\n",
              "      <td>F</td>\n",
              "      <td>100000.0</td>\n",
              "      <td>NaN</td>\n",
              "      <td>5a8bc65990b245e5a138643cd4eb9837</td>\n",
              "      <td>NaN</td>\n",
              "      <td>923</td>\n",
              "      <td>0.0</td>\n",
              "      <td>3.0</td>\n",
              "      <td>informational</td>\n",
              "      <td>0</td>\n",
              "      <td>1</td>\n",
              "      <td>1</td>\n",
              "      <td>1</td>\n",
              "      <td>171.0</td>\n",
              "      <td>0.0</td>\n",
              "      <td>0.0</td>\n",
              "    </tr>\n",
              "    <tr>\n",
              "      <th>10</th>\n",
              "      <td>offer received</td>\n",
              "      <td>78afa995795e4d85b5d9ceeca43f5fef</td>\n",
              "      <td>408</td>\n",
              "      <td>75</td>\n",
              "      <td>2017-05-09</td>\n",
              "      <td>F</td>\n",
              "      <td>100000.0</td>\n",
              "      <td>NaN</td>\n",
              "      <td>ae264e3637204a6fb9bb56bc8210ddfd</td>\n",
              "      <td>NaN</td>\n",
              "      <td>923</td>\n",
              "      <td>10.0</td>\n",
              "      <td>7.0</td>\n",
              "      <td>bogo</td>\n",
              "      <td>0</td>\n",
              "      <td>1</td>\n",
              "      <td>1</td>\n",
              "      <td>1</td>\n",
              "      <td>415.0</td>\n",
              "      <td>0.0</td>\n",
              "      <td>1.0</td>\n",
              "    </tr>\n",
              "    <tr>\n",
              "      <th>12</th>\n",
              "      <td>offer received</td>\n",
              "      <td>78afa995795e4d85b5d9ceeca43f5fef</td>\n",
              "      <td>504</td>\n",
              "      <td>75</td>\n",
              "      <td>2017-05-09</td>\n",
              "      <td>F</td>\n",
              "      <td>100000.0</td>\n",
              "      <td>NaN</td>\n",
              "      <td>f19421c1d4aa40978ebb69ca19b0e20d</td>\n",
              "      <td>NaN</td>\n",
              "      <td>923</td>\n",
              "      <td>5.0</td>\n",
              "      <td>5.0</td>\n",
              "      <td>bogo</td>\n",
              "      <td>1</td>\n",
              "      <td>1</td>\n",
              "      <td>1</td>\n",
              "      <td>1</td>\n",
              "      <td>509.0</td>\n",
              "      <td>0.0</td>\n",
              "      <td>0.0</td>\n",
              "    </tr>\n",
              "    <tr>\n",
              "      <th>18</th>\n",
              "      <td>offer received</td>\n",
              "      <td>a03223e636434f42ac4c3df47e8bac43</td>\n",
              "      <td>0</td>\n",
              "      <td>118</td>\n",
              "      <td>2017-08-04</td>\n",
              "      <td>NaN</td>\n",
              "      <td>NaN</td>\n",
              "      <td>NaN</td>\n",
              "      <td>0b1e1539f2cc45b7b9fa7c272da2e1d7</td>\n",
              "      <td>NaN</td>\n",
              "      <td>836</td>\n",
              "      <td>20.0</td>\n",
              "      <td>10.0</td>\n",
              "      <td>discount</td>\n",
              "      <td>1</td>\n",
              "      <td>1</td>\n",
              "      <td>0</td>\n",
              "      <td>0</td>\n",
              "      <td>10.0</td>\n",
              "      <td>0.0</td>\n",
              "      <td>1.0</td>\n",
              "    </tr>\n",
              "  </tbody>\n",
              "</table>\n",
              "</div>"
            ],
            "text/plain": [
              "             event                                id  ...  outcome  treatment\n",
              "0   offer received  78afa995795e4d85b5d9ceeca43f5fef  ...      0.0        1.0\n",
              "5   offer received  78afa995795e4d85b5d9ceeca43f5fef  ...      0.0        0.0\n",
              "10  offer received  78afa995795e4d85b5d9ceeca43f5fef  ...      0.0        1.0\n",
              "12  offer received  78afa995795e4d85b5d9ceeca43f5fef  ...      0.0        0.0\n",
              "18  offer received  a03223e636434f42ac4c3df47e8bac43  ...      0.0        1.0\n",
              "\n",
              "[5 rows x 21 columns]"
            ]
          },
          "metadata": {
            "tags": []
          },
          "execution_count": 3
        }
      ]
    },
    {
      "cell_type": "code",
      "metadata": {
        "colab": {
          "base_uri": "https://localhost:8080/"
        },
        "id": "mMCrhKhd_Y-C",
        "outputId": "7cda6f40-a62c-4495-8335-651f7c30f568"
      },
      "source": [
        "np.sum(df.isnull()/ df.shape[0])"
      ],
      "execution_count": null,
      "outputs": [
        {
          "output_type": "execute_result",
          "data": {
            "text/plain": [
              "event               0.000000\n",
              "id                  0.000000\n",
              "time                0.000000\n",
              "age                 0.000000\n",
              "became_member_on    0.000000\n",
              "gender              0.128164\n",
              "income              0.128164\n",
              "amount              1.000000\n",
              "offer_id            0.000000\n",
              "reward              1.000000\n",
              "days_as_member      0.000000\n",
              "difficulty          0.000000\n",
              "duration            0.000000\n",
              "offer_type          0.000000\n",
              "web                 0.000000\n",
              "email               0.000000\n",
              "mobile              0.000000\n",
              "social              0.000000\n",
              "max_time            0.000000\n",
              "outcome             0.000000\n",
              "treatment           0.000000\n",
              "dtype: float64"
            ]
          },
          "metadata": {
            "tags": []
          },
          "execution_count": 4
        }
      ]
    },
    {
      "cell_type": "code",
      "metadata": {
        "id": "dyPvibQ_ABjZ"
      },
      "source": [
        "# rows where income and gender values are null will be dropped since it only represent ~13%.\r\n",
        "df = df.dropna(subset=['income', 'gender'])"
      ],
      "execution_count": null,
      "outputs": []
    },
    {
      "cell_type": "code",
      "metadata": {
        "colab": {
          "base_uri": "https://localhost:8080/",
          "height": 168
        },
        "id": "ddGMYDZvA9G5",
        "outputId": "275a49b3-32b9-4e6f-efc5-a67f5cc7dd4d"
      },
      "source": [
        "pd.crosstab(df['treatment'], df['outcome'], margins=True)"
      ],
      "execution_count": null,
      "outputs": [
        {
          "output_type": "execute_result",
          "data": {
            "text/html": [
              "<div>\n",
              "<style scoped>\n",
              "    .dataframe tbody tr th:only-of-type {\n",
              "        vertical-align: middle;\n",
              "    }\n",
              "\n",
              "    .dataframe tbody tr th {\n",
              "        vertical-align: top;\n",
              "    }\n",
              "\n",
              "    .dataframe thead th {\n",
              "        text-align: right;\n",
              "    }\n",
              "</style>\n",
              "<table border=\"1\" class=\"dataframe\">\n",
              "  <thead>\n",
              "    <tr style=\"text-align: right;\">\n",
              "      <th>outcome</th>\n",
              "      <th>0.0</th>\n",
              "      <th>1.0</th>\n",
              "      <th>All</th>\n",
              "    </tr>\n",
              "    <tr>\n",
              "      <th>treatment</th>\n",
              "      <th></th>\n",
              "      <th></th>\n",
              "      <th></th>\n",
              "    </tr>\n",
              "  </thead>\n",
              "  <tbody>\n",
              "    <tr>\n",
              "      <th>0.0</th>\n",
              "      <td>46912</td>\n",
              "      <td>4519</td>\n",
              "      <td>51431</td>\n",
              "    </tr>\n",
              "    <tr>\n",
              "      <th>1.0</th>\n",
              "      <td>12207</td>\n",
              "      <td>2863</td>\n",
              "      <td>15070</td>\n",
              "    </tr>\n",
              "    <tr>\n",
              "      <th>All</th>\n",
              "      <td>59119</td>\n",
              "      <td>7382</td>\n",
              "      <td>66501</td>\n",
              "    </tr>\n",
              "  </tbody>\n",
              "</table>\n",
              "</div>"
            ],
            "text/plain": [
              "outcome      0.0   1.0    All\n",
              "treatment                    \n",
              "0.0        46912  4519  51431\n",
              "1.0        12207  2863  15070\n",
              "All        59119  7382  66501"
            ]
          },
          "metadata": {
            "tags": []
          },
          "execution_count": 6
        }
      ]
    },
    {
      "cell_type": "code",
      "metadata": {
        "id": "Of06JOj8A-6w"
      },
      "source": [
        "# create target_class to indicate which segment event belongs to\r\n",
        "\r\n",
        "df['target_class'] = 0 # Default set to Control Non-Responders where both treatment and outcome are 0. # LOST CAUSES\r\n",
        "df.loc[(df.treatment == 0) & (df.outcome ==1),'target_class'] = 1 # Control Responders #PURSUADABLES\r\n",
        "df.loc[(df.treatment == 1) & (df.outcome  ==0),'target_class'] = 2 # treatment Non-Responders # DO NOT DISTURB\r\n",
        "df.loc[(df.treatment == 1) & (df.outcome  ==1),'target_class'] = 3 # treatment Responders # TREATMETN RESPONDERS"
      ],
      "execution_count": null,
      "outputs": []
    },
    {
      "cell_type": "code",
      "metadata": {
        "id": "2UK4fH_uBBLh"
      },
      "source": [
        "class_dict = {0:'Control Non-Responder', 1: 'Control Responder', 2: 'Treatment Non-Responder', 3: 'Treatment Responder'}\r\n",
        "classes = ['Control Non-Responder', 'Control Responder', 'Treatment Non-Responder', 'Treatment Responder']"
      ],
      "execution_count": null,
      "outputs": []
    },
    {
      "cell_type": "code",
      "metadata": {
        "colab": {
          "base_uri": "https://localhost:8080/"
        },
        "id": "cX3vt03nBDgh",
        "outputId": "2693dc18-9c03-4bcb-9e9a-32d905875339"
      },
      "source": [
        "df.target_class.value_counts()"
      ],
      "execution_count": null,
      "outputs": [
        {
          "output_type": "execute_result",
          "data": {
            "text/plain": [
              "0    46912\n",
              "2    12207\n",
              "1     4519\n",
              "3     2863\n",
              "Name: target_class, dtype: int64"
            ]
          },
          "metadata": {
            "tags": []
          },
          "execution_count": 9
        }
      ]
    },
    {
      "cell_type": "code",
      "metadata": {
        "colab": {
          "base_uri": "https://localhost:8080/",
          "height": 198
        },
        "id": "FKiEgW3tBSEo",
        "outputId": "9648c8f3-00e6-4d6f-9024-ca227b188183"
      },
      "source": [
        "# Remaining cleaning of the data will be done to then have it ready for model building.\r\n",
        "def clean_data(df): \r\n",
        "    \"\"\"\r\n",
        "    Perform remaning feature engineering \r\n",
        "    Args:\r\n",
        "        df: dataframe\r\n",
        "    Returns:\r\n",
        "        df: dataframe ready for model building\r\n",
        "    \"\"\"\r\n",
        "    # drop non-relevant features for model building purposes        \r\n",
        "    df = df.drop(columns=['id','event', 'time', 'became_member_on', 'amount', 'offer_id', 'reward', 'max_time' ], axis=1)\r\n",
        "    # subset categorical variables\r\n",
        "    cat_vars = df.select_dtypes(include=['object']).copy().columns\r\n",
        "    for var in cat_vars:\r\n",
        "        # for each cat add dummy var, drop original column\r\n",
        "        df = pd.concat([df.drop(var, axis=1), pd.get_dummies(df[var], prefix=var, prefix_sep='_', drop_first=True)], axis=1)\r\n",
        "    return df\r\n",
        "clean_df = clean_data(df)\r\n",
        "\r\n",
        "clean_df.head()"
      ],
      "execution_count": null,
      "outputs": [
        {
          "output_type": "execute_result",
          "data": {
            "text/html": [
              "<div>\n",
              "<style scoped>\n",
              "    .dataframe tbody tr th:only-of-type {\n",
              "        vertical-align: middle;\n",
              "    }\n",
              "\n",
              "    .dataframe tbody tr th {\n",
              "        vertical-align: top;\n",
              "    }\n",
              "\n",
              "    .dataframe thead th {\n",
              "        text-align: right;\n",
              "    }\n",
              "</style>\n",
              "<table border=\"1\" class=\"dataframe\">\n",
              "  <thead>\n",
              "    <tr style=\"text-align: right;\">\n",
              "      <th></th>\n",
              "      <th>age</th>\n",
              "      <th>income</th>\n",
              "      <th>days_as_member</th>\n",
              "      <th>difficulty</th>\n",
              "      <th>duration</th>\n",
              "      <th>web</th>\n",
              "      <th>email</th>\n",
              "      <th>mobile</th>\n",
              "      <th>social</th>\n",
              "      <th>outcome</th>\n",
              "      <th>treatment</th>\n",
              "      <th>target_class</th>\n",
              "      <th>gender_M</th>\n",
              "      <th>gender_O</th>\n",
              "      <th>offer_type_discount</th>\n",
              "      <th>offer_type_informational</th>\n",
              "    </tr>\n",
              "  </thead>\n",
              "  <tbody>\n",
              "    <tr>\n",
              "      <th>0</th>\n",
              "      <td>75</td>\n",
              "      <td>100000.0</td>\n",
              "      <td>923</td>\n",
              "      <td>5.0</td>\n",
              "      <td>7.0</td>\n",
              "      <td>1</td>\n",
              "      <td>1</td>\n",
              "      <td>1</td>\n",
              "      <td>0</td>\n",
              "      <td>0.0</td>\n",
              "      <td>1.0</td>\n",
              "      <td>2</td>\n",
              "      <td>0</td>\n",
              "      <td>0</td>\n",
              "      <td>0</td>\n",
              "      <td>0</td>\n",
              "    </tr>\n",
              "    <tr>\n",
              "      <th>5</th>\n",
              "      <td>75</td>\n",
              "      <td>100000.0</td>\n",
              "      <td>923</td>\n",
              "      <td>0.0</td>\n",
              "      <td>3.0</td>\n",
              "      <td>0</td>\n",
              "      <td>1</td>\n",
              "      <td>1</td>\n",
              "      <td>1</td>\n",
              "      <td>0.0</td>\n",
              "      <td>0.0</td>\n",
              "      <td>0</td>\n",
              "      <td>0</td>\n",
              "      <td>0</td>\n",
              "      <td>0</td>\n",
              "      <td>1</td>\n",
              "    </tr>\n",
              "    <tr>\n",
              "      <th>10</th>\n",
              "      <td>75</td>\n",
              "      <td>100000.0</td>\n",
              "      <td>923</td>\n",
              "      <td>10.0</td>\n",
              "      <td>7.0</td>\n",
              "      <td>0</td>\n",
              "      <td>1</td>\n",
              "      <td>1</td>\n",
              "      <td>1</td>\n",
              "      <td>0.0</td>\n",
              "      <td>1.0</td>\n",
              "      <td>2</td>\n",
              "      <td>0</td>\n",
              "      <td>0</td>\n",
              "      <td>0</td>\n",
              "      <td>0</td>\n",
              "    </tr>\n",
              "    <tr>\n",
              "      <th>12</th>\n",
              "      <td>75</td>\n",
              "      <td>100000.0</td>\n",
              "      <td>923</td>\n",
              "      <td>5.0</td>\n",
              "      <td>5.0</td>\n",
              "      <td>1</td>\n",
              "      <td>1</td>\n",
              "      <td>1</td>\n",
              "      <td>1</td>\n",
              "      <td>0.0</td>\n",
              "      <td>0.0</td>\n",
              "      <td>0</td>\n",
              "      <td>0</td>\n",
              "      <td>0</td>\n",
              "      <td>0</td>\n",
              "      <td>0</td>\n",
              "    </tr>\n",
              "    <tr>\n",
              "      <th>29</th>\n",
              "      <td>68</td>\n",
              "      <td>70000.0</td>\n",
              "      <td>571</td>\n",
              "      <td>10.0</td>\n",
              "      <td>7.0</td>\n",
              "      <td>1</td>\n",
              "      <td>1</td>\n",
              "      <td>1</td>\n",
              "      <td>0</td>\n",
              "      <td>0.0</td>\n",
              "      <td>0.0</td>\n",
              "      <td>0</td>\n",
              "      <td>1</td>\n",
              "      <td>0</td>\n",
              "      <td>1</td>\n",
              "      <td>0</td>\n",
              "    </tr>\n",
              "  </tbody>\n",
              "</table>\n",
              "</div>"
            ],
            "text/plain": [
              "    age    income  ...  offer_type_discount  offer_type_informational\n",
              "0    75  100000.0  ...                    0                         0\n",
              "5    75  100000.0  ...                    0                         1\n",
              "10   75  100000.0  ...                    0                         0\n",
              "12   75  100000.0  ...                    0                         0\n",
              "29   68   70000.0  ...                    1                         0\n",
              "\n",
              "[5 rows x 16 columns]"
            ]
          },
          "metadata": {
            "tags": []
          },
          "execution_count": 11
        }
      ]
    },
    {
      "cell_type": "markdown",
      "metadata": {
        "id": "HMangsg-oh5n"
      },
      "source": [
        "### I. First train_test_split:"
      ]
    },
    {
      "cell_type": "code",
      "metadata": {
        "id": "fWzQCMWZBTdr"
      },
      "source": [
        "train_df, test_df = train_test_split(clean_df, test_size=0.3, random_state=42)"
      ],
      "execution_count": null,
      "outputs": []
    },
    {
      "cell_type": "code",
      "metadata": {
        "id": "wXSOQs1RBTgt"
      },
      "source": [
        "X_train = train_df.drop(columns=['treatment', 'outcome','target_class'], axis=1)\r\n",
        "y_train = train_df.target_class\r\n",
        "\r\n",
        "X_test = test_df.drop(columns=['treatment', 'outcome','target_class'], axis=1)\r\n",
        "y_test = test_df.target_class"
      ],
      "execution_count": null,
      "outputs": []
    },
    {
      "cell_type": "code",
      "metadata": {
        "colab": {
          "base_uri": "https://localhost:8080/",
          "height": 436
        },
        "id": "RXTUvXINBTkt",
        "outputId": "6cd07bd8-25da-4d15-dfde-532b5e9c0107"
      },
      "source": [
        "from yellowbrick.target import ClassBalance, class_balance\r\n",
        "from yellowbrick.classifier import ClassificationReport\r\n",
        "from yellowbrick.classifier import ROCAUC\r\n",
        "from yellowbrick.classifier import PrecisionRecallCurve\r\n",
        "from yellowbrick.classifier import ConfusionMatrix\r\n",
        "\r\n",
        "\r\n",
        "y = pd.Series(y_train).map(class_dict).values\r\n",
        "# visualizer = ClassBalance(labels=classes)\r\n",
        "# visualizer.fit(y)\r\n",
        "#visualizer.show()\r\n",
        "class_balance(y)"
      ],
      "execution_count": null,
      "outputs": [
        {
          "output_type": "stream",
          "text": [
            "/usr/local/lib/python3.7/dist-packages/sklearn/utils/deprecation.py:144: FutureWarning: The sklearn.metrics.classification module is  deprecated in version 0.22 and will be removed in version 0.24. The corresponding classes / functions should instead be imported from sklearn.metrics. Anything that cannot be imported from sklearn.metrics is now part of the private API.\n",
            "  warnings.warn(message, FutureWarning)\n"
          ],
          "name": "stderr"
        },
        {
          "output_type": "execute_result",
          "data": {
            "text/plain": [
              "<matplotlib.axes._subplots.AxesSubplot at 0x7f5d4ad75310>"
            ]
          },
          "metadata": {
            "tags": []
          },
          "execution_count": 14
        },
        {
          "output_type": "display_data",
          "data": {
            "image/png": "[encoded data removed]",
            "text/plain": [
              "<Figure size 576x396 with 1 Axes>"
            ]
          },
          "metadata": {
            "tags": []
          }
        }
      ]
    },
    {
      "cell_type": "code",
      "metadata": {
        "id": "XMmrn9s4BTn1"
      },
      "source": [
        "def upsample(df, column, majority_value, minority_value):\r\n",
        "    \"\"\"\r\n",
        "    Upsamples dataframe to address class imbalance\r\n",
        "    Args:\r\n",
        "        df: dataframe \r\n",
        "        column: string feature that contains class imbalance\r\n",
        "        majority_value: value of feature that is majority\r\n",
        "        minority_value: value of feature that is minority\r\n",
        "    Returns:\r\n",
        "        df_upsampled: Dataframe with upsampling. Note that this should only be for training data.\r\n",
        "    \"\"\"\r\n",
        "    # Up-sample Minority Class approach from Elite Data Science \r\n",
        "    # https://elitedatascience.com/imbalanced-classes\r\n",
        "\r\n",
        "\r\n",
        "    # Seperate majority and minority classes\r\n",
        "    df_majority = df[df[column] == majority_value]\r\n",
        "    df_minority = df[df[column] == minority_value]\r\n",
        "\r\n",
        "    majority_n_samples = df[column].value_counts()[majority_value]\r\n",
        "    \r\n",
        "    # Upsample minority class\r\n",
        "    df_minority_upsampled = resample(df_minority,\r\n",
        "                                replace=True,\r\n",
        "                                n_samples=majority_n_samples,\r\n",
        "                                random_state=42)\r\n",
        "\r\n",
        "    # Combine majority class with upsampled minority class\r\n",
        "    df_upsampled = pd.concat([df_majority, df_minority_upsampled])\r\n",
        "    return df_upsampled\r\n",
        "def upsample_train(train_df):\r\n",
        "    \"\"\"\r\n",
        "    Upsamples training data and returns X and y dataframes for build_model arguements\r\n",
        "    Args:\r\n",
        "        train_df: dataframe containing training data.\r\n",
        "    Returns:\r\n",
        "        X_train: dataframe containing features to be inputted for classifier model\r\n",
        "        y_train: dataframe containing 'target_class'\r\n",
        "    \"\"\"\r\n",
        "    train_df_upsample = upsample(train_df, 'treatment', 0, 1)\r\n",
        "    X_train = train_df_upsample.drop(columns=['treatment', 'outcome','target_class'], axis=1)\r\n",
        "    y_train = train_df_upsample.target_class\r\n",
        "    \r\n",
        "    return X_train, y_train\r\n",
        "\r\n",
        "X_train_upsampled, y_train_upsampled = upsample_train(train_df)"
      ],
      "execution_count": null,
      "outputs": []
    },
    {
      "cell_type": "code",
      "metadata": {
        "colab": {
          "base_uri": "https://localhost:8080/",
          "height": 380
        },
        "id": "0SjsxtK4M2Vp",
        "outputId": "a27415f1-b7c8-4109-df22-2df89f8c8726"
      },
      "source": [
        "class_balance(y_train_upsampled)"
      ],
      "execution_count": null,
      "outputs": [
        {
          "output_type": "execute_result",
          "data": {
            "text/plain": [
              "<matplotlib.axes._subplots.AxesSubplot at 0x7f5d4aceeb90>"
            ]
          },
          "metadata": {
            "tags": []
          },
          "execution_count": 16
        },
        {
          "output_type": "display_data",
          "data": {
            "image/png": "[encoded data removed]",
            "text/plain": [
              "<Figure size 576x396 with 1 Axes>"
            ]
          },
          "metadata": {
            "tags": []
          }
        }
      ]
    },
    {
      "cell_type": "code",
      "metadata": {
        "id": "Ksq1dBBCGduL"
      },
      "source": [
        "\r\n",
        "from sklearn.preprocessing import LabelEncoder\r\n",
        "y = LabelEncoder().fit_transform(y_train)"
      ],
      "execution_count": null,
      "outputs": []
    },
    {
      "cell_type": "code",
      "metadata": {
        "colab": {
          "base_uri": "https://localhost:8080/"
        },
        "id": "enkCFPBXLmvP",
        "outputId": "dfd60d5b-1c10-4d1e-8fcf-2e178f777ced"
      },
      "source": [
        "from imblearn.over_sampling import SMOTE\r\n",
        "\r\n",
        "# oversample = SMOTE()\r\n",
        "# X_train_upsamp, Y_train_upsamp = oversample.fit_resample(X_train, y)\r\n",
        "sm = SMOTE({0:33444, 1:33444, 2:33444, 3:33444}, random_state=42)\r\n",
        "X_train_upsamp, Y_train_upsamp = sm.fit_sample(X_train, y)\r\n"
      ],
      "execution_count": null,
      "outputs": [
        {
          "output_type": "stream",
          "text": [
            "/usr/local/lib/python3.7/dist-packages/imblearn/utils/_validation.py:257: UserWarning: After over-sampling, the number of samples (33444) in class 0 will be larger than the number of samples in the majority class (class #0 -> 32788)\n",
            "  n_samples_majority))\n",
            "/usr/local/lib/python3.7/dist-packages/imblearn/utils/_validation.py:257: UserWarning: After over-sampling, the number of samples (33444) in class 1 will be larger than the number of samples in the majority class (class #0 -> 32788)\n",
            "  n_samples_majority))\n",
            "/usr/local/lib/python3.7/dist-packages/imblearn/utils/_validation.py:257: UserWarning: After over-sampling, the number of samples (33444) in class 2 will be larger than the number of samples in the majority class (class #0 -> 32788)\n",
            "  n_samples_majority))\n",
            "/usr/local/lib/python3.7/dist-packages/imblearn/utils/_validation.py:257: UserWarning: After over-sampling, the number of samples (33444) in class 3 will be larger than the number of samples in the majority class (class #0 -> 32788)\n",
            "  n_samples_majority))\n",
            "/usr/local/lib/python3.7/dist-packages/sklearn/utils/deprecation.py:87: FutureWarning: Function safe_indexing is deprecated; safe_indexing is deprecated in version 0.22 and will be removed in version 0.24.\n",
            "  warnings.warn(msg, category=FutureWarning)\n",
            "/usr/local/lib/python3.7/dist-packages/sklearn/utils/deprecation.py:87: FutureWarning: Function safe_indexing is deprecated; safe_indexing is deprecated in version 0.22 and will be removed in version 0.24.\n",
            "  warnings.warn(msg, category=FutureWarning)\n",
            "/usr/local/lib/python3.7/dist-packages/sklearn/utils/deprecation.py:87: FutureWarning: Function safe_indexing is deprecated; safe_indexing is deprecated in version 0.22 and will be removed in version 0.24.\n",
            "  warnings.warn(msg, category=FutureWarning)\n",
            "/usr/local/lib/python3.7/dist-packages/sklearn/utils/deprecation.py:87: FutureWarning: Function safe_indexing is deprecated; safe_indexing is deprecated in version 0.22 and will be removed in version 0.24.\n",
            "  warnings.warn(msg, category=FutureWarning)\n"
          ],
          "name": "stderr"
        }
      ]
    },
    {
      "cell_type": "code",
      "metadata": {
        "colab": {
          "base_uri": "https://localhost:8080/",
          "height": 380
        },
        "id": "QXW0QSo5L_l9",
        "outputId": "06c319af-7423-44b2-f66f-8b965071162a"
      },
      "source": [
        "class_balance(Y_train_upsamp)"
      ],
      "execution_count": null,
      "outputs": [
        {
          "output_type": "execute_result",
          "data": {
            "text/plain": [
              "<matplotlib.axes._subplots.AxesSubplot at 0x7f5d4a6f1710>"
            ]
          },
          "metadata": {
            "tags": []
          },
          "execution_count": 21
        },
        {
          "output_type": "display_data",
          "data": {
            "image/png": "[encoded data removed]",
            "text/plain": [
              "<Figure size 576x396 with 1 Axes>"
            ]
          },
          "metadata": {
            "tags": []
          }
        }
      ]
    },
    {
      "cell_type": "code",
      "metadata": {
        "id": "Ja3wulrQGLXA"
      },
      "source": [
        "clf = RandomForestClassifier()"
      ],
      "execution_count": null,
      "outputs": []
    },
    {
      "cell_type": "code",
      "metadata": {
        "colab": {
          "base_uri": "https://localhost:8080/",
          "height": 351
        },
        "id": "EQMkP4FuNb2_",
        "outputId": "00819186-e430-4a23-d60f-d124b887c56d"
      },
      "source": [
        "# compare both original training data and upsampled date in terms of classification metrics\r\n",
        "\r\n",
        "def classification_report(X, y, model):\r\n",
        "    \r\n",
        "    \"\"\"\r\n",
        "    Create yellowbrick classificaiton report visualization to assess classifier performance\r\n",
        "    \r\n",
        "    Args:\r\n",
        "        X: features for model building\r\n",
        "        y: target variable\r\n",
        "        model: Classifier model\r\n",
        "    \r\n",
        "    Returns:\r\n",
        "        viz_show: yellowbrick ClassificationReport visualization output\r\n",
        "    \"\"\"\r\n",
        "    X_train, X_test, y_train, y_test = train_test_split(X, y, test_size = .30, random_state=42)\r\n",
        "    \r\n",
        "    visualizer = ClassificationReport(model, classes=classes, support=True)\r\n",
        "    visualizer.fit(X_train, y_train)\r\n",
        "    return visualizer.score(X_test, y_test)\r\n",
        "    # viz_show = visualizer.show()\r\n",
        "    # return viz_show\r\n",
        "\r\n",
        "classification_report_ = classification_report(X_train, y_train, clf)\r\n",
        "# classification_report_upsampled = classification_report(X_train_upsampled, y_train_upsampled, clf)\r\n",
        "# classification_report_upsam = classification_report(X_train_upsamp, Y_train_upsamp, clf)"
      ],
      "execution_count": null,
      "outputs": [
        {
          "output_type": "display_data",
          "data": {
            "image/png": "[encoded data removed]",
            "text/plain": [
              "<Figure size 576x396 with 2 Axes>"
            ]
          },
          "metadata": {
            "tags": []
          }
        }
      ]
    },
    {
      "cell_type": "code",
      "metadata": {
        "colab": {
          "base_uri": "https://localhost:8080/",
          "height": 351
        },
        "id": "ykERg-BUNt-C",
        "outputId": "34f0536c-9722-471b-f9c4-f1f9847efdf1"
      },
      "source": [
        "classification_report_upsampled = classification_report(X_train_upsampled, y_train_upsampled, clf)\r\n"
      ],
      "execution_count": null,
      "outputs": [
        {
          "output_type": "display_data",
          "data": {
            "image/png": "[encoded data removed]",
            "text/plain": [
              "<Figure size 576x396 with 2 Axes>"
            ]
          },
          "metadata": {
            "tags": []
          }
        }
      ]
    },
    {
      "cell_type": "code",
      "metadata": {
        "colab": {
          "base_uri": "https://localhost:8080/",
          "height": 351
        },
        "id": "NS4tXzIIOXki",
        "outputId": "f5b0ad06-631b-4872-c41a-e64ab66705a5"
      },
      "source": [
        "classification_report_upsam = classification_report(X_train_upsamp, Y_train_upsamp, clf)"
      ],
      "execution_count": null,
      "outputs": [
        {
          "output_type": "display_data",
          "data": {
            "image/png": "[encoded data removed]",
            "text/plain": [
              "<Figure size 576x396 with 2 Axes>"
            ]
          },
          "metadata": {
            "tags": []
          }
        }
      ]
    },
    {
      "cell_type": "code",
      "metadata": {
        "id": "OVaA_Rr1OYQK"
      },
      "source": [
        "# visualize performance measured by Area Under the Curve (\"AUC\") with ROC Curves\r\n",
        "from yellowbrick.classifier.rocauc import roc_auc\r\n",
        "def rocauc(X, y, model):\r\n",
        "    \"\"\"\r\n",
        "    Create yellowbrick ROC Curve visualization to assess classifier performance\r\n",
        "    Args:\r\n",
        "        X: features for model building\r\n",
        "        y: target variable\r\n",
        "        model: Classifier model\r\n",
        "    Returns:\r\n",
        "        viz_show: yellowbrick ROCAUC visualization output\r\n",
        "    \"\"\"\r\n",
        "    X_train, X_test, y_train, y_test = train_test_split(X, y, test_size = .30, random_state=42)\r\n",
        "    return roc_auc(model, X_train, y_train, X_test=X_test, y_test=y_test, classes=classes)\r\n",
        "\r\n",
        "    # visualizer = ROCAUC(model, classes=classes, support=True)\r\n",
        "    # visualizer.fit(X_train, y_train)\r\n",
        "    # return visualizer.score(X_test, y_test)"
      ],
      "execution_count": null,
      "outputs": []
    },
    {
      "cell_type": "code",
      "metadata": {
        "colab": {
          "base_uri": "https://localhost:8080/",
          "height": 376
        },
        "id": "6RIMdvDoOlwu",
        "outputId": "21ca2b75-290d-467a-de4c-8b0dfe7e61cf"
      },
      "source": [
        "rocauc_ = rocauc(X_train, y_train, clf)\r\n"
      ],
      "execution_count": null,
      "outputs": [
        {
          "output_type": "display_data",
          "data": {
            "image/png": "[encoded data removed]",
            "text/plain": [
              "<Figure size 576x396 with 1 Axes>"
            ]
          },
          "metadata": {
            "tags": []
          }
        }
      ]
    },
    {
      "cell_type": "code",
      "metadata": {
        "colab": {
          "base_uri": "https://localhost:8080/",
          "height": 376
        },
        "id": "zI158TuUOoRO",
        "outputId": "d2eaa2d4-8337-44f3-e150-75ee0d4c20c4"
      },
      "source": [
        "rocauc_upsampled = rocauc(X_train_upsampled, y_train_upsampled, clf)"
      ],
      "execution_count": null,
      "outputs": [
        {
          "output_type": "display_data",
          "data": {
            "image/png": "[encoded data removed]",
            "text/plain": [
              "<Figure size 576x396 with 1 Axes>"
            ]
          },
          "metadata": {
            "tags": []
          }
        }
      ]
    },
    {
      "cell_type": "code",
      "metadata": {
        "colab": {
          "base_uri": "https://localhost:8080/",
          "height": 376
        },
        "id": "sJvLHdMBOtiu",
        "outputId": "9ec916d2-494f-4711-e282-1bb2cf07ff14"
      },
      "source": [
        "rocauc_upsampled = rocauc(X_train_upsamp, Y_train_upsamp, clf)"
      ],
      "execution_count": null,
      "outputs": [
        {
          "output_type": "display_data",
          "data": {
            "image/png": "[encoded data removed]",
            "text/plain": [
              "<Figure size 576x396 with 1 Axes>"
            ]
          },
          "metadata": {
            "tags": []
          }
        }
      ]
    },
    {
      "cell_type": "markdown",
      "metadata": {
        "id": "mfGERxm_pkSU"
      },
      "source": [
        "# -------------------------------------------------------------------------------------------\r\n",
        "# Uplift Model using sklearn from Vigneshsab et al., "
      ]
    },
    {
      "cell_type": "code",
      "metadata": {
        "id": "F5qUIdMTJG4K"
      },
      "source": [
        "train, test = train_test_split(clean_df, test_size=0.3, random_state=42)"
      ],
      "execution_count": null,
      "outputs": []
    },
    {
      "cell_type": "code",
      "metadata": {
        "id": "Og2hqrq4yZbs"
      },
      "source": [
        "cpgn=['age','income','days_as_member','difficulty','duration','web','email','mobile', 'social', 'gender_M', 'gender_O', 'offer_type_discount', 'offer_type_informational']\r\n",
        "\r\n",
        "Y_test = test['target_class']\r\n",
        "X_test = test[cpgn]"
      ],
      "execution_count": null,
      "outputs": []
    },
    {
      "cell_type": "code",
      "metadata": {
        "colab": {
          "base_uri": "https://localhost:8080/",
          "height": 198
        },
        "id": "W8ExS0Y1rcud",
        "outputId": "bb81038b-04c8-4e68-c6be-5a2c705fea09"
      },
      "source": [
        "train.head()"
      ],
      "execution_count": null,
      "outputs": [
        {
          "output_type": "execute_result",
          "data": {
            "text/html": [
              "<div>\n",
              "<style scoped>\n",
              "    .dataframe tbody tr th:only-of-type {\n",
              "        vertical-align: middle;\n",
              "    }\n",
              "\n",
              "    .dataframe tbody tr th {\n",
              "        vertical-align: top;\n",
              "    }\n",
              "\n",
              "    .dataframe thead th {\n",
              "        text-align: right;\n",
              "    }\n",
              "</style>\n",
              "<table border=\"1\" class=\"dataframe\">\n",
              "  <thead>\n",
              "    <tr style=\"text-align: right;\">\n",
              "      <th></th>\n",
              "      <th>age</th>\n",
              "      <th>income</th>\n",
              "      <th>days_as_member</th>\n",
              "      <th>difficulty</th>\n",
              "      <th>duration</th>\n",
              "      <th>web</th>\n",
              "      <th>email</th>\n",
              "      <th>mobile</th>\n",
              "      <th>social</th>\n",
              "      <th>outcome</th>\n",
              "      <th>treatment</th>\n",
              "      <th>target_class</th>\n",
              "      <th>gender_M</th>\n",
              "      <th>gender_O</th>\n",
              "      <th>offer_type_discount</th>\n",
              "      <th>offer_type_informational</th>\n",
              "    </tr>\n",
              "  </thead>\n",
              "  <tbody>\n",
              "    <tr>\n",
              "      <th>272649</th>\n",
              "      <td>42</td>\n",
              "      <td>48000.0</td>\n",
              "      <td>1539</td>\n",
              "      <td>5.0</td>\n",
              "      <td>5.0</td>\n",
              "      <td>1</td>\n",
              "      <td>1</td>\n",
              "      <td>1</td>\n",
              "      <td>1</td>\n",
              "      <td>0.0</td>\n",
              "      <td>0.0</td>\n",
              "      <td>0</td>\n",
              "      <td>1</td>\n",
              "      <td>0</td>\n",
              "      <td>0</td>\n",
              "      <td>0</td>\n",
              "    </tr>\n",
              "    <tr>\n",
              "      <th>87416</th>\n",
              "      <td>55</td>\n",
              "      <td>103000.0</td>\n",
              "      <td>1551</td>\n",
              "      <td>10.0</td>\n",
              "      <td>10.0</td>\n",
              "      <td>1</td>\n",
              "      <td>1</td>\n",
              "      <td>1</td>\n",
              "      <td>1</td>\n",
              "      <td>1.0</td>\n",
              "      <td>0.0</td>\n",
              "      <td>1</td>\n",
              "      <td>0</td>\n",
              "      <td>0</td>\n",
              "      <td>1</td>\n",
              "      <td>0</td>\n",
              "    </tr>\n",
              "    <tr>\n",
              "      <th>130300</th>\n",
              "      <td>77</td>\n",
              "      <td>37000.0</td>\n",
              "      <td>1032</td>\n",
              "      <td>5.0</td>\n",
              "      <td>7.0</td>\n",
              "      <td>1</td>\n",
              "      <td>1</td>\n",
              "      <td>1</td>\n",
              "      <td>0</td>\n",
              "      <td>0.0</td>\n",
              "      <td>1.0</td>\n",
              "      <td>2</td>\n",
              "      <td>0</td>\n",
              "      <td>0</td>\n",
              "      <td>0</td>\n",
              "      <td>0</td>\n",
              "    </tr>\n",
              "    <tr>\n",
              "      <th>154992</th>\n",
              "      <td>61</td>\n",
              "      <td>58000.0</td>\n",
              "      <td>773</td>\n",
              "      <td>10.0</td>\n",
              "      <td>7.0</td>\n",
              "      <td>0</td>\n",
              "      <td>1</td>\n",
              "      <td>1</td>\n",
              "      <td>1</td>\n",
              "      <td>0.0</td>\n",
              "      <td>0.0</td>\n",
              "      <td>0</td>\n",
              "      <td>1</td>\n",
              "      <td>0</td>\n",
              "      <td>0</td>\n",
              "      <td>0</td>\n",
              "    </tr>\n",
              "    <tr>\n",
              "      <th>229432</th>\n",
              "      <td>85</td>\n",
              "      <td>77000.0</td>\n",
              "      <td>1379</td>\n",
              "      <td>10.0</td>\n",
              "      <td>5.0</td>\n",
              "      <td>1</td>\n",
              "      <td>1</td>\n",
              "      <td>1</td>\n",
              "      <td>1</td>\n",
              "      <td>0.0</td>\n",
              "      <td>0.0</td>\n",
              "      <td>0</td>\n",
              "      <td>0</td>\n",
              "      <td>0</td>\n",
              "      <td>0</td>\n",
              "      <td>0</td>\n",
              "    </tr>\n",
              "  </tbody>\n",
              "</table>\n",
              "</div>"
            ],
            "text/plain": [
              "        age    income  ...  offer_type_discount  offer_type_informational\n",
              "272649   42   48000.0  ...                    0                         0\n",
              "87416    55  103000.0  ...                    1                         0\n",
              "130300   77   37000.0  ...                    0                         0\n",
              "154992   61   58000.0  ...                    0                         0\n",
              "229432   85   77000.0  ...                    0                         0\n",
              "\n",
              "[5 rows x 16 columns]"
            ]
          },
          "metadata": {
            "tags": []
          },
          "execution_count": 33
        }
      ]
    },
    {
      "cell_type": "code",
      "metadata": {
        "id": "TbXSFLq7rAJ6"
      },
      "source": [
        "train, valid = train_test_split(train, test_size=0.2,random_state=42)\r\n",
        "\r\n",
        "cpgn=['age','income','days_as_member','difficulty','duration','web','email','mobile', 'social', 'gender_M', 'gender_O', 'offer_type_discount', 'offer_type_informational']\r\n",
        "\r\n",
        "Y_train = train['target_class']\r\n",
        "X_train = train[cpgn]\r\n",
        "\r\n",
        "Y_valid = valid['target_class']\r\n",
        "X_valid = valid[cpgn]"
      ],
      "execution_count": null,
      "outputs": []
    },
    {
      "cell_type": "code",
      "metadata": {
        "colab": {
          "base_uri": "https://localhost:8080/",
          "height": 362
        },
        "id": "8cE9Xq-6qspC",
        "outputId": "fee5100f-3f1f-4579-b92f-562376cc08da"
      },
      "source": [
        "from yellowbrick.target import class_balance\r\n",
        "class_balance(Y_train);"
      ],
      "execution_count": null,
      "outputs": [
        {
          "output_type": "display_data",
          "data": {
            "image/png": "[encoded data removed]",
            "text/plain": [
              "<Figure size 576x396 with 1 Axes>"
            ]
          },
          "metadata": {
            "tags": []
          }
        }
      ]
    },
    {
      "cell_type": "code",
      "metadata": {
        "colab": {
          "base_uri": "https://localhost:8080/"
        },
        "id": "v2iCT0n5s0Jx",
        "outputId": "40fb0fcc-a606-40b2-d981-9368c24d7418"
      },
      "source": [
        "# up sample with SMOTE\r\n",
        "sm = SMOTE({0:33444, 1:33444, 2:33444, 3:33444}, random_state=42)\r\n",
        "X_train_upsamp, Y_train_upsamp = sm.fit_sample(X_train, Y_train)\r\n",
        "    \r\n",
        "X_train_upsamp = pd.DataFrame(X_train_upsamp, columns=cpgn)\r\n",
        "\r\n",
        "Y_train_upsamp = pd.Series(Y_train_upsamp)\r\n",
        "Y_train_upsamp.value_counts()"
      ],
      "execution_count": null,
      "outputs": [
        {
          "output_type": "stream",
          "text": [
            "/usr/local/lib/python3.7/dist-packages/imblearn/utils/_validation.py:257: UserWarning: After over-sampling, the number of samples (33444) in class 0 will be larger than the number of samples in the majority class (class #0 -> 26236)\n",
            "  n_samples_majority))\n",
            "/usr/local/lib/python3.7/dist-packages/imblearn/utils/_validation.py:257: UserWarning: After over-sampling, the number of samples (33444) in class 1 will be larger than the number of samples in the majority class (class #0 -> 26236)\n",
            "  n_samples_majority))\n",
            "/usr/local/lib/python3.7/dist-packages/imblearn/utils/_validation.py:257: UserWarning: After over-sampling, the number of samples (33444) in class 2 will be larger than the number of samples in the majority class (class #0 -> 26236)\n",
            "  n_samples_majority))\n",
            "/usr/local/lib/python3.7/dist-packages/imblearn/utils/_validation.py:257: UserWarning: After over-sampling, the number of samples (33444) in class 3 will be larger than the number of samples in the majority class (class #0 -> 26236)\n",
            "  n_samples_majority))\n",
            "/usr/local/lib/python3.7/dist-packages/sklearn/utils/deprecation.py:87: FutureWarning: Function safe_indexing is deprecated; safe_indexing is deprecated in version 0.22 and will be removed in version 0.24.\n",
            "  warnings.warn(msg, category=FutureWarning)\n",
            "/usr/local/lib/python3.7/dist-packages/sklearn/utils/deprecation.py:87: FutureWarning: Function safe_indexing is deprecated; safe_indexing is deprecated in version 0.22 and will be removed in version 0.24.\n",
            "  warnings.warn(msg, category=FutureWarning)\n",
            "/usr/local/lib/python3.7/dist-packages/sklearn/utils/deprecation.py:87: FutureWarning: Function safe_indexing is deprecated; safe_indexing is deprecated in version 0.22 and will be removed in version 0.24.\n",
            "  warnings.warn(msg, category=FutureWarning)\n",
            "/usr/local/lib/python3.7/dist-packages/sklearn/utils/deprecation.py:87: FutureWarning: Function safe_indexing is deprecated; safe_indexing is deprecated in version 0.22 and will be removed in version 0.24.\n",
            "  warnings.warn(msg, category=FutureWarning)\n"
          ],
          "name": "stderr"
        },
        {
          "output_type": "execute_result",
          "data": {
            "text/plain": [
              "3    33444\n",
              "2    33444\n",
              "1    33444\n",
              "0    33444\n",
              "dtype: int64"
            ]
          },
          "metadata": {
            "tags": []
          },
          "execution_count": 37
        }
      ]
    },
    {
      "cell_type": "code",
      "metadata": {
        "colab": {
          "base_uri": "https://localhost:8080/",
          "height": 362
        },
        "id": "4kmupngCs4Sg",
        "outputId": "286cd0be-d08e-40af-b350-7eb68544701f"
      },
      "source": [
        "class_balance(Y_train_upsamp);"
      ],
      "execution_count": null,
      "outputs": [
        {
          "output_type": "display_data",
          "data": {
            "image/png": "[encoded data removed]",
            "text/plain": [
              "<Figure size 576x396 with 1 Axes>"
            ]
          },
          "metadata": {
            "tags": []
          }
        }
      ]
    },
    {
      "cell_type": "code",
      "metadata": {
        "colab": {
          "base_uri": "https://localhost:8080/"
        },
        "id": "5ihvzt1Ds8EQ",
        "outputId": "a9040045-7eef-4804-d217-ebd43077156a"
      },
      "source": [
        "import xgboost as xgb\r\n",
        "eval_set = [(X_train_upsamp, Y_train_upsamp), (X_valid, Y_valid)]\r\n",
        "model = xgb.XGBClassifier(learning_rate = 0.1,\\\r\n",
        "                          \r\n",
        "                                  max_depth = 8,\\\r\n",
        "                                  min_child_weight = 5,\\\r\n",
        "                                  objective = 'multi:softmax',\\\r\n",
        "                                  seed = 42,\\\r\n",
        "                                  gamma = 0.1,\\\r\n",
        "                                  silent = True)\r\n",
        "model.fit(X_train_upsamp, Y_train_upsamp, eval_set=eval_set,\\\r\n",
        "                    eval_metric=\"mlogloss\", verbose=True, early_stopping_rounds=30)"
      ],
      "execution_count": null,
      "outputs": [
        {
          "output_type": "stream",
          "text": [
            "[0]\tvalidation_0-mlogloss:1.34122\tvalidation_1-mlogloss:1.3221\n",
            "Multiple eval metrics have been passed: 'validation_1-mlogloss' will be used for early stopping.\n",
            "\n",
            "Will train until validation_1-mlogloss hasn't improved in 30 rounds.\n",
            "[1]\tvalidation_0-mlogloss:1.30264\tvalidation_1-mlogloss:1.26853\n",
            "[2]\tvalidation_0-mlogloss:1.2693\tvalidation_1-mlogloss:1.22264\n",
            "[3]\tvalidation_0-mlogloss:1.24052\tvalidation_1-mlogloss:1.18407\n",
            "[4]\tvalidation_0-mlogloss:1.21486\tvalidation_1-mlogloss:1.15014\n",
            "[5]\tvalidation_0-mlogloss:1.19211\tvalidation_1-mlogloss:1.12026\n",
            "[6]\tvalidation_0-mlogloss:1.17203\tvalidation_1-mlogloss:1.0943\n",
            "[7]\tvalidation_0-mlogloss:1.15365\tvalidation_1-mlogloss:1.07128\n",
            "[8]\tvalidation_0-mlogloss:1.13708\tvalidation_1-mlogloss:1.05121\n",
            "[9]\tvalidation_0-mlogloss:1.12208\tvalidation_1-mlogloss:1.03336\n",
            "[10]\tvalidation_0-mlogloss:1.10858\tvalidation_1-mlogloss:1.01725\n",
            "[11]\tvalidation_0-mlogloss:1.09596\tvalidation_1-mlogloss:1.00291\n",
            "[12]\tvalidation_0-mlogloss:1.08477\tvalidation_1-mlogloss:0.99048\n",
            "[13]\tvalidation_0-mlogloss:1.07426\tvalidation_1-mlogloss:0.978839\n",
            "[14]\tvalidation_0-mlogloss:1.06472\tvalidation_1-mlogloss:0.968949\n",
            "[15]\tvalidation_0-mlogloss:1.05575\tvalidation_1-mlogloss:0.959842\n",
            "[16]\tvalidation_0-mlogloss:1.0473\tvalidation_1-mlogloss:0.95188\n",
            "[17]\tvalidation_0-mlogloss:1.03957\tvalidation_1-mlogloss:0.944377\n",
            "[18]\tvalidation_0-mlogloss:1.03221\tvalidation_1-mlogloss:0.938159\n",
            "[19]\tvalidation_0-mlogloss:1.02504\tvalidation_1-mlogloss:0.932171\n",
            "[20]\tvalidation_0-mlogloss:1.01842\tvalidation_1-mlogloss:0.927069\n",
            "[21]\tvalidation_0-mlogloss:1.01185\tvalidation_1-mlogloss:0.922441\n",
            "[22]\tvalidation_0-mlogloss:1.00625\tvalidation_1-mlogloss:0.918263\n",
            "[23]\tvalidation_0-mlogloss:1.00024\tvalidation_1-mlogloss:0.914086\n",
            "[24]\tvalidation_0-mlogloss:0.994885\tvalidation_1-mlogloss:0.91042\n",
            "[25]\tvalidation_0-mlogloss:0.990052\tvalidation_1-mlogloss:0.906967\n",
            "[26]\tvalidation_0-mlogloss:0.985349\tvalidation_1-mlogloss:0.904021\n",
            "[27]\tvalidation_0-mlogloss:0.98053\tvalidation_1-mlogloss:0.901613\n",
            "[28]\tvalidation_0-mlogloss:0.976235\tvalidation_1-mlogloss:0.89927\n",
            "[29]\tvalidation_0-mlogloss:0.971048\tvalidation_1-mlogloss:0.896946\n",
            "[30]\tvalidation_0-mlogloss:0.96691\tvalidation_1-mlogloss:0.894832\n",
            "[31]\tvalidation_0-mlogloss:0.962902\tvalidation_1-mlogloss:0.89284\n",
            "[32]\tvalidation_0-mlogloss:0.958465\tvalidation_1-mlogloss:0.891355\n",
            "[33]\tvalidation_0-mlogloss:0.954954\tvalidation_1-mlogloss:0.890092\n",
            "[34]\tvalidation_0-mlogloss:0.951419\tvalidation_1-mlogloss:0.888574\n",
            "[35]\tvalidation_0-mlogloss:0.947568\tvalidation_1-mlogloss:0.887535\n",
            "[36]\tvalidation_0-mlogloss:0.944494\tvalidation_1-mlogloss:0.886371\n",
            "[37]\tvalidation_0-mlogloss:0.940891\tvalidation_1-mlogloss:0.885443\n",
            "[38]\tvalidation_0-mlogloss:0.93794\tvalidation_1-mlogloss:0.884642\n",
            "[39]\tvalidation_0-mlogloss:0.934968\tvalidation_1-mlogloss:0.883933\n",
            "[40]\tvalidation_0-mlogloss:0.932108\tvalidation_1-mlogloss:0.883329\n",
            "[41]\tvalidation_0-mlogloss:0.929565\tvalidation_1-mlogloss:0.88284\n",
            "[42]\tvalidation_0-mlogloss:0.926729\tvalidation_1-mlogloss:0.882231\n",
            "[43]\tvalidation_0-mlogloss:0.923958\tvalidation_1-mlogloss:0.881494\n",
            "[44]\tvalidation_0-mlogloss:0.921039\tvalidation_1-mlogloss:0.88083\n",
            "[45]\tvalidation_0-mlogloss:0.918707\tvalidation_1-mlogloss:0.880381\n",
            "[46]\tvalidation_0-mlogloss:0.916239\tvalidation_1-mlogloss:0.879924\n",
            "[47]\tvalidation_0-mlogloss:0.914059\tvalidation_1-mlogloss:0.879251\n",
            "[48]\tvalidation_0-mlogloss:0.911609\tvalidation_1-mlogloss:0.878898\n",
            "[49]\tvalidation_0-mlogloss:0.909761\tvalidation_1-mlogloss:0.878489\n",
            "[50]\tvalidation_0-mlogloss:0.90725\tvalidation_1-mlogloss:0.878035\n",
            "[51]\tvalidation_0-mlogloss:0.904941\tvalidation_1-mlogloss:0.877607\n",
            "[52]\tvalidation_0-mlogloss:0.903212\tvalidation_1-mlogloss:0.877414\n",
            "[53]\tvalidation_0-mlogloss:0.901366\tvalidation_1-mlogloss:0.876886\n",
            "[54]\tvalidation_0-mlogloss:0.899403\tvalidation_1-mlogloss:0.876609\n",
            "[55]\tvalidation_0-mlogloss:0.897027\tvalidation_1-mlogloss:0.876427\n",
            "[56]\tvalidation_0-mlogloss:0.895652\tvalidation_1-mlogloss:0.876293\n",
            "[57]\tvalidation_0-mlogloss:0.893562\tvalidation_1-mlogloss:0.876101\n",
            "[58]\tvalidation_0-mlogloss:0.88967\tvalidation_1-mlogloss:0.876052\n",
            "[59]\tvalidation_0-mlogloss:0.888039\tvalidation_1-mlogloss:0.875849\n",
            "[60]\tvalidation_0-mlogloss:0.886222\tvalidation_1-mlogloss:0.875804\n",
            "[61]\tvalidation_0-mlogloss:0.884326\tvalidation_1-mlogloss:0.87551\n",
            "[62]\tvalidation_0-mlogloss:0.882188\tvalidation_1-mlogloss:0.875329\n",
            "[63]\tvalidation_0-mlogloss:0.880076\tvalidation_1-mlogloss:0.875122\n",
            "[64]\tvalidation_0-mlogloss:0.877704\tvalidation_1-mlogloss:0.875131\n",
            "[65]\tvalidation_0-mlogloss:0.87577\tvalidation_1-mlogloss:0.875114\n",
            "[66]\tvalidation_0-mlogloss:0.873755\tvalidation_1-mlogloss:0.875008\n",
            "[67]\tvalidation_0-mlogloss:0.87225\tvalidation_1-mlogloss:0.875067\n",
            "[68]\tvalidation_0-mlogloss:0.870405\tvalidation_1-mlogloss:0.874913\n",
            "[69]\tvalidation_0-mlogloss:0.868304\tvalidation_1-mlogloss:0.874433\n",
            "[70]\tvalidation_0-mlogloss:0.866785\tvalidation_1-mlogloss:0.874464\n",
            "[71]\tvalidation_0-mlogloss:0.86562\tvalidation_1-mlogloss:0.874135\n",
            "[72]\tvalidation_0-mlogloss:0.864596\tvalidation_1-mlogloss:0.87424\n",
            "[73]\tvalidation_0-mlogloss:0.863386\tvalidation_1-mlogloss:0.874278\n",
            "[74]\tvalidation_0-mlogloss:0.862133\tvalidation_1-mlogloss:0.874197\n",
            "[75]\tvalidation_0-mlogloss:0.859767\tvalidation_1-mlogloss:0.874189\n",
            "[76]\tvalidation_0-mlogloss:0.858589\tvalidation_1-mlogloss:0.874152\n",
            "[77]\tvalidation_0-mlogloss:0.856617\tvalidation_1-mlogloss:0.874021\n",
            "[78]\tvalidation_0-mlogloss:0.855166\tvalidation_1-mlogloss:0.873949\n",
            "[79]\tvalidation_0-mlogloss:0.854509\tvalidation_1-mlogloss:0.873936\n",
            "[80]\tvalidation_0-mlogloss:0.853326\tvalidation_1-mlogloss:0.8738\n",
            "[81]\tvalidation_0-mlogloss:0.852556\tvalidation_1-mlogloss:0.873851\n",
            "[82]\tvalidation_0-mlogloss:0.850673\tvalidation_1-mlogloss:0.873607\n",
            "[83]\tvalidation_0-mlogloss:0.84917\tvalidation_1-mlogloss:0.873466\n",
            "[84]\tvalidation_0-mlogloss:0.847115\tvalidation_1-mlogloss:0.873551\n",
            "[85]\tvalidation_0-mlogloss:0.845926\tvalidation_1-mlogloss:0.873369\n",
            "[86]\tvalidation_0-mlogloss:0.844462\tvalidation_1-mlogloss:0.873333\n",
            "[87]\tvalidation_0-mlogloss:0.842482\tvalidation_1-mlogloss:0.873355\n",
            "[88]\tvalidation_0-mlogloss:0.841356\tvalidation_1-mlogloss:0.873327\n",
            "[89]\tvalidation_0-mlogloss:0.839984\tvalidation_1-mlogloss:0.873346\n",
            "[90]\tvalidation_0-mlogloss:0.838613\tvalidation_1-mlogloss:0.873198\n",
            "[91]\tvalidation_0-mlogloss:0.836969\tvalidation_1-mlogloss:0.873327\n",
            "[92]\tvalidation_0-mlogloss:0.836058\tvalidation_1-mlogloss:0.873335\n",
            "[93]\tvalidation_0-mlogloss:0.834341\tvalidation_1-mlogloss:0.873137\n",
            "[94]\tvalidation_0-mlogloss:0.833567\tvalidation_1-mlogloss:0.873097\n",
            "[95]\tvalidation_0-mlogloss:0.831385\tvalidation_1-mlogloss:0.873284\n",
            "[96]\tvalidation_0-mlogloss:0.830043\tvalidation_1-mlogloss:0.873349\n",
            "[97]\tvalidation_0-mlogloss:0.828834\tvalidation_1-mlogloss:0.87321\n",
            "[98]\tvalidation_0-mlogloss:0.82666\tvalidation_1-mlogloss:0.873315\n",
            "[99]\tvalidation_0-mlogloss:0.825603\tvalidation_1-mlogloss:0.873365\n"
          ],
          "name": "stdout"
        },
        {
          "output_type": "execute_result",
          "data": {
            "text/plain": [
              "XGBClassifier(base_score=0.5, booster='gbtree', colsample_bylevel=1,\n",
              "              colsample_bynode=1, colsample_bytree=1, gamma=0.1,\n",
              "              learning_rate=0.1, max_delta_step=0, max_depth=8,\n",
              "              min_child_weight=5, missing=None, n_estimators=100, n_jobs=1,\n",
              "              nthread=None, objective='multi:softprob', random_state=0,\n",
              "              reg_alpha=0, reg_lambda=1, scale_pos_weight=1, seed=42,\n",
              "              silent=True, subsample=1, verbosity=1)"
            ]
          },
          "metadata": {
            "tags": []
          },
          "execution_count": 41
        }
      ]
    },
    {
      "cell_type": "code",
      "metadata": {
        "colab": {
          "base_uri": "https://localhost:8080/",
          "height": 620
        },
        "id": "jD79thA-tNBR",
        "outputId": "53dc4c24-b274-4418-ae30-3ed1c2b966fa"
      },
      "source": [
        "from sklearn.metrics import confusion_matrix\r\n",
        "import seaborn as sns\r\n",
        "\r\n",
        "valid_pred = model.predict(X_valid, ntree_limit=model.best_ntree_limit)\r\n",
        "cm = confusion_matrix(Y_valid, valid_pred)\r\n",
        "\r\n",
        "fig, ax= plt.subplots(figsize=(10,10))\r\n",
        "sns.heatmap(cm, annot=True, fmt='g', ax = ax); #annot=True to annotate cells\r\n",
        "\r\n",
        "# labels, title and ticks\r\n",
        "ax.set_xlabel('Predicted labels');\r\n",
        "ax.set_ylabel('True labels'); \r\n",
        "ax.set_title('Confusion Matrix'); \r\n",
        "ax.xaxis.set_ticklabels(['No Purchase', 'Made Purchase']); \r\n",
        "ax.yaxis.set_ticklabels(['No Purchase', 'Made Purchase']);"
      ],
      "execution_count": null,
      "outputs": [
        {
          "output_type": "display_data",
          "data": {
            "image/png": "[encoded data removed]",
            "text/plain": [
              "<Figure size 720x720 with 2 Axes>"
            ]
          },
          "metadata": {
            "tags": []
          }
        }
      ]
    },
    {
      "cell_type": "code",
      "metadata": {
        "id": "UhhSByQau__x"
      },
      "source": [
        "# added this function to test our irr and nlr on the validation set\r\n",
        "cpgn=['age','income','days_as_member','difficulty','duration','web','email','mobile', 'social', 'gender_M', 'gender_O', 'offer_type_discount', 'offer_type_informational']\r\n",
        "def valid_results(promotion_strategy, valid_data, features):\r\n",
        "    df = valid_data[features]\r\n",
        "    promos = promotion_strategy(df)\r\n",
        "    score_df = valid_data.iloc[np.where(promos == 1)]    \r\n",
        "    nir = score(score_df)\r\n",
        "    print()\r\n",
        "    print('Your Revenue generated with this strategy is {:0.2f}.'.format(nir))\r\n",
        "    print()\r\n",
        "    return nir"
      ],
      "execution_count": null,
      "outputs": []
    },
    {
      "cell_type": "code",
      "metadata": {
        "id": "NUCBzuFnvZ6a"
      },
      "source": [
        "def score(df, promo_pred_col = 'treatment'):\r\n",
        "    n_treat       = df.loc[df[promo_pred_col] == 1,:].shape[0] # Size of treatment group (n)\r\n",
        "    n_control     = df.loc[df[promo_pred_col] == 0,:].shape[0] # Size of control group (n)\r\n",
        "    n_treat_purch = df.loc[df[promo_pred_col] == 1, 'outcome'].sum() # if a customer made a purchase during a promo, what was his reponse (summed up over the whole group)\r\n",
        "    n_ctrl_purch  = df.loc[df[promo_pred_col] == 0, 'outcome'].sum() # if a customer DID NOT make a purchase during a promo, what was his reponse (summed up over the whole group)\r\n",
        "    nir = 11*n_treat_purch - 3 * n_treat + 11*n_ctrl_purch # nir = 11*% of customer that made a purchase and responded to an AD\r\n",
        "                                                          # - 3* size of the treatment group + 11* Customers that DID NOT make a purchase but got an AD\r\n",
        "    return (nir)\r\n",
        "\r\n",
        "def test_results(promotion_strategy, test, features):\r\n",
        "    test_data = test\r\n",
        "    df = test_data[features]\r\n",
        "    promos = promotion_strategy(df)\r\n",
        "    score_df = test_data.iloc[np.where(promos == 1)]    \r\n",
        "    nir = score(score_df)\r\n",
        "    print()\r\n",
        "    print('Your Revenue generated with this strategy is {:0.2f}.'.format(nir))\r\n",
        "    print()"
      ],
      "execution_count": null,
      "outputs": []
    },
    {
      "cell_type": "code",
      "metadata": {
        "id": "l5KyMc4ut7g5"
      },
      "source": [
        "def promotion_strategy(df):\r\n",
        "    '''     \r\n",
        "    Ex:\r\n",
        "    INPUT: df\r\n",
        "    AcceptedCmp1->AcceptedCmp2->AcceptedCmp3->AcceptedCmp4->AcceptedCmp5->Income->Recency->NumWebVisitsMonth\r\n",
        "    OUTPUT: promotion\r\n",
        "    \r\n",
        "    array([1, 1, 0])\r\n",
        "    indicating the first two users would recieve the promotion and \r\n",
        "    the last should not.\r\n",
        "    '''\r\n",
        "    test = df\r\n",
        "    pred = model.predict(test, ntree_limit=model.best_ntree_limit)\r\n",
        "    promotion = []\r\n",
        "    for pred in pred:\r\n",
        "        if pred == 0:\r\n",
        "            promotion.append(1)\r\n",
        "        else:\r\n",
        "            promotion.append(0)\r\n",
        "    promotion = np.array(promotion)\r\n",
        "    return promotion\r\n"
      ],
      "execution_count": null,
      "outputs": []
    },
    {
      "cell_type": "code",
      "metadata": {
        "colab": {
          "base_uri": "https://localhost:8080/"
        },
        "id": "Djb25qSJvO0o",
        "outputId": "57f1b28b-50dd-4323-8c87-d56aca295c91"
      },
      "source": [
        "valid_results(promotion_strategy, valid, cpgn)"
      ],
      "execution_count": null,
      "outputs": [
        {
          "output_type": "stream",
          "text": [
            "\n",
            "Your Revenue generated with this strategy is 4787.00.\n",
            "\n"
          ],
          "name": "stdout"
        },
        {
          "output_type": "execute_result",
          "data": {
            "text/plain": [
              "4787.0"
            ]
          },
          "metadata": {
            "tags": []
          },
          "execution_count": 51
        }
      ]
    },
    {
      "cell_type": "code",
      "metadata": {
        "colab": {
          "base_uri": "https://localhost:8080/"
        },
        "id": "ZFt7iwPWvTyB",
        "outputId": "3c1f6d6d-48d9-46f8-c22e-ff4f601578b6"
      },
      "source": [
        "# This will test your results, and provide you back some information \r\n",
        "# on how well your promotion_strategy will work in practice\r\n",
        "\r\n",
        "test_results(promotion_strategy, test, cpgn)"
      ],
      "execution_count": null,
      "outputs": [
        {
          "output_type": "stream",
          "text": [
            "\n",
            "Your Revenue generated with this strategy is 10287.00.\n",
            "\n"
          ],
          "name": "stdout"
        }
      ]
    },
    {
      "cell_type": "code",
      "metadata": {
        "colab": {
          "base_uri": "https://localhost:8080/",
          "height": 395
        },
        "id": "yOQ2cxXxxNqo",
        "outputId": "d2b21069-26d5-4310-aa7d-94a6006cab65"
      },
      "source": [
        "roc_auc(model, X_train, Y_train, X_test=X_valid, y_test=Y_valid, classes=classes)"
      ],
      "execution_count": null,
      "outputs": [
        {
          "output_type": "execute_result",
          "data": {
            "text/plain": [
              "<matplotlib.axes._subplots.AxesSubplot at 0x7f5d48814e50>"
            ]
          },
          "metadata": {
            "tags": []
          },
          "execution_count": 55
        },
        {
          "output_type": "display_data",
          "data": {
            "image/png": "[encoded data removed]",
            "text/plain": [
              "<Figure size 576x396 with 1 Axes>"
            ]
          },
          "metadata": {
            "tags": []
          }
        }
      ]
    },
    {
      "cell_type": "code",
      "metadata": {
        "colab": {
          "base_uri": "https://localhost:8080/",
          "height": 395
        },
        "id": "WuJJoNMEyAnK",
        "outputId": "57325bdf-7f3a-4fa6-a889-2f8a33055b3f"
      },
      "source": [
        "roc_auc(model, X_train, Y_train, X_test=X_test, y_test=Y_test, classes=classes)"
      ],
      "execution_count": null,
      "outputs": [
        {
          "output_type": "execute_result",
          "data": {
            "text/plain": [
              "<matplotlib.axes._subplots.AxesSubplot at 0x7f5d4a3345d0>"
            ]
          },
          "metadata": {
            "tags": []
          },
          "execution_count": 58
        },
        {
          "output_type": "display_data",
          "data": {
            "image/png": "[encoded data removed]",
            "text/plain": [
              "<Figure size 576x396 with 1 Axes>"
            ]
          },
          "metadata": {
            "tags": []
          }
        }
      ]
    },
    {
      "cell_type": "code",
      "metadata": {
        "id": "rKeBnbAOymLB"
      },
      "source": [
        ""
      ],
      "execution_count": null,
      "outputs": []
    }
  ]
}